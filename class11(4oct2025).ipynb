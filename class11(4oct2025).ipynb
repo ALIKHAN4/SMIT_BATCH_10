{
 "cells": [
  {
   "cell_type": "markdown",
   "id": "9c8e8197",
   "metadata": {},
   "source": [
    "# Dictionary"
   ]
  },
  {
   "cell_type": "code",
   "execution_count": 1,
   "id": "95e7a6df",
   "metadata": {},
   "outputs": [],
   "source": [
    "# info = { 'key':'value' }\n",
    "info = { 'name':'Ali khan', 'course': 'python', 'age':23 }"
   ]
  },
  {
   "cell_type": "code",
   "execution_count": 3,
   "id": "2eb79873",
   "metadata": {},
   "outputs": [
    {
     "data": {
      "text/plain": [
       "dict"
      ]
     },
     "execution_count": 3,
     "metadata": {},
     "output_type": "execute_result"
    }
   ],
   "source": [
    "type(info)"
   ]
  },
  {
   "cell_type": "code",
   "execution_count": 5,
   "id": "7622d12b",
   "metadata": {},
   "outputs": [
    {
     "data": {
      "text/plain": [
       "3"
      ]
     },
     "execution_count": 5,
     "metadata": {},
     "output_type": "execute_result"
    }
   ],
   "source": [
    "len(info)"
   ]
  },
  {
   "cell_type": "code",
   "execution_count": 7,
   "id": "5e05db61",
   "metadata": {},
   "outputs": [
    {
     "data": {
      "text/plain": [
       "{'name': 'Ali khan', 'course': 'python', 'age': 23}"
      ]
     },
     "execution_count": 7,
     "metadata": {},
     "output_type": "execute_result"
    }
   ],
   "source": [
    "info"
   ]
  },
  {
   "cell_type": "code",
   "execution_count": 8,
   "id": "8acdaf98",
   "metadata": {},
   "outputs": [
    {
     "data": {
      "text/plain": [
       "{'name': 'Ali khan', 'course': 'python', 'age': 23}"
      ]
     },
     "execution_count": 8,
     "metadata": {},
     "output_type": "execute_result"
    }
   ],
   "source": [
    "info"
   ]
  },
  {
   "cell_type": "code",
   "execution_count": 11,
   "id": "98691ecc",
   "metadata": {},
   "outputs": [
    {
     "ename": "TypeError",
     "evalue": "unhashable type: 'list'",
     "output_type": "error",
     "traceback": [
      "\u001b[1;31m---------------------------------------------------------------------------\u001b[0m",
      "\u001b[1;31mTypeError\u001b[0m                                 Traceback (most recent call last)",
      "\u001b[1;32m~\\AppData\\Local\\Temp\\ipykernel_7384\\1682168296.py\u001b[0m in \u001b[0;36m<module>\u001b[1;34m\u001b[0m\n\u001b[1;32m----> 1\u001b[1;33m data = {\n\u001b[0m\u001b[0;32m      2\u001b[0m     \u001b[1;34m\"Virat Kohli\"\u001b[0m\u001b[1;33m:\u001b[0m \u001b[1;34m'Off side delivery'\u001b[0m\u001b[1;33m,\u001b[0m\u001b[1;33m\u001b[0m\u001b[1;33m\u001b[0m\u001b[0m\n\u001b[0;32m      3\u001b[0m     \u001b[1;34m\"Babar Azam\"\u001b[0m\u001b[1;33m:\u001b[0m \u001b[1;34m'Cricket'\u001b[0m\u001b[1;33m,\u001b[0m\u001b[1;33m\u001b[0m\u001b[1;33m\u001b[0m\u001b[0m\n\u001b[0;32m      4\u001b[0m     \u001b[1;34m\"Haris Rauf\"\u001b[0m\u001b[1;33m:\u001b[0m \u001b[1;34m'Bowling'\u001b[0m\u001b[1;33m,\u001b[0m\u001b[1;33m\u001b[0m\u001b[1;33m\u001b[0m\u001b[0m\n\u001b[0;32m      5\u001b[0m     \u001b[1;36m10\u001b[0m\u001b[1;33m:\u001b[0m \u001b[1;34m'Shahid Afridi'\u001b[0m\u001b[1;33m,\u001b[0m\u001b[1;33m\u001b[0m\u001b[1;33m\u001b[0m\u001b[0m\n",
      "\u001b[1;31mTypeError\u001b[0m: unhashable type: 'list'"
     ]
    }
   ],
   "source": [
    "data = {\n",
    "    \"Virat Kohli\": 'Off side delivery', \n",
    "    \"Babar Azam\": 'Cricket', \n",
    "    \"Haris Rauf\": 'Bowling', \n",
    "    10: 'Shahid Afridi',\n",
    "    [123]: 'List value'\n",
    "    }"
   ]
  },
  {
   "cell_type": "markdown",
   "id": "d389492c",
   "metadata": {},
   "source": [
    "No, a Python list cannot be directly used as a key in a dictionary. Dictionary keys in Python must be hashable and immutable. Lists are mutable, meaning their contents can be changed after they are created, and therefore they are not hashable."
   ]
  },
  {
   "cell_type": "code",
   "execution_count": 12,
   "id": "026b05c4",
   "metadata": {},
   "outputs": [
    {
     "data": {
      "text/plain": [
       "{'name': 'Ali khan', 'course': 'python', 'age': 23}"
      ]
     },
     "execution_count": 12,
     "metadata": {},
     "output_type": "execute_result"
    }
   ],
   "source": [
    "info"
   ]
  },
  {
   "cell_type": "code",
   "execution_count": 13,
   "id": "f8a0222f",
   "metadata": {},
   "outputs": [
    {
     "data": {
      "text/plain": [
       "['karachi', 'Larkana', 'murre']"
      ]
     },
     "execution_count": 13,
     "metadata": {},
     "output_type": "execute_result"
    }
   ],
   "source": [
    "cities = ['karachi', 'lahore', 'murre']\n",
    "cities[1] = 'Larkana'\n",
    "cities"
   ]
  },
  {
   "cell_type": "code",
   "execution_count": 16,
   "id": "2ebe332d",
   "metadata": {},
   "outputs": [
    {
     "data": {
      "text/plain": [
       "{'name': 'Ali khan', 'course': 'python', 'age': 23, 'city': 'Karachi'}"
      ]
     },
     "execution_count": 16,
     "metadata": {},
     "output_type": "execute_result"
    }
   ],
   "source": [
    "info['city'] = 'Karachi'\n",
    "info"
   ]
  },
  {
   "cell_type": "code",
   "execution_count": 18,
   "id": "bbcb8c8a",
   "metadata": {},
   "outputs": [
    {
     "ename": "KeyError",
     "evalue": "0",
     "output_type": "error",
     "traceback": [
      "\u001b[1;31m---------------------------------------------------------------------------\u001b[0m",
      "\u001b[1;31mKeyError\u001b[0m                                  Traceback (most recent call last)",
      "\u001b[1;32m~\\AppData\\Local\\Temp\\ipykernel_7384\\2564525394.py\u001b[0m in \u001b[0;36m<module>\u001b[1;34m\u001b[0m\n\u001b[1;32m----> 1\u001b[1;33m \u001b[0minfo\u001b[0m\u001b[1;33m[\u001b[0m\u001b[1;36m0\u001b[0m\u001b[1;33m]\u001b[0m\u001b[1;33m\u001b[0m\u001b[1;33m\u001b[0m\u001b[0m\n\u001b[0m",
      "\u001b[1;31mKeyError\u001b[0m: 0"
     ]
    }
   ],
   "source": [
    "info[0]"
   ]
  },
  {
   "cell_type": "code",
   "execution_count": 19,
   "id": "31cece25",
   "metadata": {},
   "outputs": [
    {
     "data": {
      "text/plain": [
       "'Ali khan'"
      ]
     },
     "execution_count": 19,
     "metadata": {},
     "output_type": "execute_result"
    }
   ],
   "source": [
    "info['name']"
   ]
  },
  {
   "cell_type": "code",
   "execution_count": 21,
   "id": "d3b06ab7",
   "metadata": {},
   "outputs": [
    {
     "data": {
      "text/plain": [
       "{'name': 'Ali khan', 'course': 'python', 'age': 23, 'city': 'waseem bhai'}"
      ]
     },
     "execution_count": 21,
     "metadata": {},
     "output_type": "execute_result"
    }
   ],
   "source": [
    "info['city'] = 'waseem bhai'\n",
    "info"
   ]
  },
  {
   "cell_type": "code",
   "execution_count": 22,
   "id": "40ee5999",
   "metadata": {},
   "outputs": [],
   "source": [
    "info.update({'campus':'gulshan', 'city':'karachi'})"
   ]
  },
  {
   "cell_type": "markdown",
   "id": "89a397a1",
   "metadata": {},
   "source": [
    "## How to remove a value from a dictionary"
   ]
  },
  {
   "cell_type": "code",
   "execution_count": 25,
   "id": "b5282ae8",
   "metadata": {},
   "outputs": [],
   "source": [
    "del info['age']"
   ]
  },
  {
   "cell_type": "code",
   "execution_count": 45,
   "id": "6f3b6605",
   "metadata": {},
   "outputs": [
    {
     "data": {
      "text/plain": [
       "{'name': 'Ali khan',\n",
       " 'course': 'python',\n",
       " 'city': 'karachi',\n",
       " 'campus': 'gulshan',\n",
       " 'Topi': 'Bike kharab hogai thi'}"
      ]
     },
     "execution_count": 45,
     "metadata": {},
     "output_type": "execute_result"
    }
   ],
   "source": [
    "info"
   ]
  },
  {
   "cell_type": "code",
   "execution_count": 47,
   "id": "d366ed1d",
   "metadata": {},
   "outputs": [],
   "source": [
    "topi =info.pop('Topi')"
   ]
  },
  {
   "cell_type": "code",
   "execution_count": 48,
   "id": "fc701b28",
   "metadata": {},
   "outputs": [
    {
     "data": {
      "text/plain": [
       "'Bike kharab hogai thi'"
      ]
     },
     "execution_count": 48,
     "metadata": {},
     "output_type": "execute_result"
    }
   ],
   "source": [
    "topi"
   ]
  },
  {
   "cell_type": "code",
   "execution_count": 50,
   "id": "cdd3409c",
   "metadata": {},
   "outputs": [],
   "source": [
    "popitem_value = info.popitem()"
   ]
  },
  {
   "cell_type": "code",
   "execution_count": 51,
   "id": "1b9b9a99",
   "metadata": {},
   "outputs": [
    {
     "data": {
      "text/plain": [
       "('campus', 'gulshan')"
      ]
     },
     "execution_count": 51,
     "metadata": {},
     "output_type": "execute_result"
    }
   ],
   "source": [
    "popitem_value"
   ]
  },
  {
   "cell_type": "code",
   "execution_count": 52,
   "id": "37dec589",
   "metadata": {},
   "outputs": [
    {
     "data": {
      "text/plain": [
       "{'name': 'Ali khan', 'course': 'python', 'city': 'karachi'}"
      ]
     },
     "execution_count": 52,
     "metadata": {},
     "output_type": "execute_result"
    }
   ],
   "source": [
    "info"
   ]
  },
  {
   "cell_type": "code",
   "execution_count": 55,
   "id": "852c0409",
   "metadata": {},
   "outputs": [
    {
     "data": {
      "text/plain": [
       "dict_items([('name', 'Ali khan'), ('course', 'python'), ('city', 'karachi')])"
      ]
     },
     "execution_count": 55,
     "metadata": {},
     "output_type": "execute_result"
    }
   ],
   "source": [
    "info.items()"
   ]
  },
  {
   "cell_type": "code",
   "execution_count": 27,
   "id": "88b88a5a",
   "metadata": {},
   "outputs": [],
   "source": [
    "topi = input('Enter your topi')\n",
    "reason = input('Enter your topi reason')"
   ]
  },
  {
   "cell_type": "code",
   "execution_count": 30,
   "id": "758976d9",
   "metadata": {},
   "outputs": [],
   "source": [
    "info[topi] = reason"
   ]
  },
  {
   "cell_type": "code",
   "execution_count": 32,
   "id": "ad0d0eb7",
   "metadata": {},
   "outputs": [
    {
     "data": {
      "text/plain": [
       "{'name': 'Ali khan',\n",
       " 'course': 'python',\n",
       " 'city': 'karachi',\n",
       " 'campus': 'gulshan',\n",
       " 'Topi': 'Bike kharab hogai thi'}"
      ]
     },
     "execution_count": 32,
     "metadata": {},
     "output_type": "execute_result"
    }
   ],
   "source": [
    "info"
   ]
  },
  {
   "cell_type": "code",
   "execution_count": 36,
   "id": "a7af4c6c",
   "metadata": {},
   "outputs": [
    {
     "data": {
      "text/plain": [
       "['name', 'course', 'city', 'campus', 'Topi']"
      ]
     },
     "execution_count": 36,
     "metadata": {},
     "output_type": "execute_result"
    }
   ],
   "source": [
    "list(info.keys())"
   ]
  },
  {
   "cell_type": "code",
   "execution_count": 38,
   "id": "b1322454",
   "metadata": {},
   "outputs": [
    {
     "data": {
      "text/plain": [
       "['Ali khan', 'python', 'karachi', 'gulshan', 'Bike kharab hogai thi']"
      ]
     },
     "execution_count": 38,
     "metadata": {},
     "output_type": "execute_result"
    }
   ],
   "source": [
    "list(info.values())"
   ]
  },
  {
   "cell_type": "code",
   "execution_count": 56,
   "id": "5e25b51b",
   "metadata": {},
   "outputs": [
    {
     "data": {
      "text/plain": [
       "[('name', 'Ali khan'), ('course', 'python'), ('city', 'karachi')]"
      ]
     },
     "execution_count": 56,
     "metadata": {},
     "output_type": "execute_result"
    }
   ],
   "source": [
    "old_items = list(info.items())\n",
    "old_items"
   ]
  },
  {
   "cell_type": "code",
   "execution_count": 61,
   "id": "de00f006",
   "metadata": {},
   "outputs": [
    {
     "data": {
      "text/plain": [
       "'Ali khan'"
      ]
     },
     "execution_count": 61,
     "metadata": {},
     "output_type": "execute_result"
    }
   ],
   "source": [
    "info['name']"
   ]
  },
  {
   "cell_type": "code",
   "execution_count": null,
   "id": "61e76ea3",
   "metadata": {},
   "outputs": [
    {
     "ename": "KeyError",
     "evalue": "'Name'",
     "output_type": "error",
     "traceback": [
      "\u001b[1;31m---------------------------------------------------------------------------\u001b[0m\n",
      "\u001b[1;31mKeyError\u001b[0m                                  Traceback (most recent call last)\n",
      "\u001b[1;32m~\\AppData\\Local\\Temp\\ipykernel_7384\\729386781.py\u001b[0m in \u001b[0;36m<module>\u001b[1;34m\u001b[0m\n",
      "\u001b[1;32m----> 1\u001b[1;33m \u001b[0minfo\u001b[0m\u001b[1;33m[\u001b[0m\u001b[1;34m'Name'\u001b[0m\u001b[1;33m]\u001b[0m\u001b[1;33m\u001b[0m\u001b[1;33m\u001b[0m\u001b[0m\n",
      "\u001b[0m\n",
      "\u001b[1;31mKeyError\u001b[0m: 'Name'"
     ]
    }
   ],
   "source": [
    "info['Name']"
   ]
  },
  {
   "cell_type": "code",
   "execution_count": 62,
   "id": "ca83da87",
   "metadata": {},
   "outputs": [
    {
     "data": {
      "text/plain": [
       "{'name': 'Ali khan', 'course': 'python', 'city': 'karachi'}"
      ]
     },
     "execution_count": 62,
     "metadata": {},
     "output_type": "execute_result"
    }
   ],
   "source": [
    "info"
   ]
  },
  {
   "cell_type": "code",
   "execution_count": 59,
   "id": "2da89913",
   "metadata": {},
   "outputs": [
    {
     "data": {
      "text/plain": [
       "'Ali khan'"
      ]
     },
     "execution_count": 59,
     "metadata": {},
     "output_type": "execute_result"
    }
   ],
   "source": [
    "info.get('name')"
   ]
  },
  {
   "cell_type": "code",
   "execution_count": 60,
   "id": "91d163d4",
   "metadata": {},
   "outputs": [],
   "source": [
    "info.get('Name')"
   ]
  },
  {
   "cell_type": "code",
   "execution_count": null,
   "id": "fc45a59e",
   "metadata": {},
   "outputs": [],
   "source": [
    "info['Topi'] = None"
   ]
  },
  {
   "cell_type": "code",
   "execution_count": 69,
   "id": "b0bd1f15",
   "metadata": {},
   "outputs": [
    {
     "data": {
      "text/plain": [
       "{'name': 'Ali khan', 'course': 'python', 'city': 'karachi', 'Topi': None}"
      ]
     },
     "execution_count": 69,
     "metadata": {},
     "output_type": "execute_result"
    }
   ],
   "source": [
    "info"
   ]
  },
  {
   "cell_type": "code",
   "execution_count": 67,
   "id": "fd52d497",
   "metadata": {},
   "outputs": [
    {
     "name": "stdout",
     "output_type": "stream",
     "text": [
      "None\n"
     ]
    }
   ],
   "source": [
    "print(info.get('Topi'))"
   ]
  },
  {
   "cell_type": "code",
   "execution_count": 77,
   "id": "eb326905",
   "metadata": {},
   "outputs": [
    {
     "name": "stdout",
     "output_type": "stream",
     "text": [
      "Ali khan\n",
      "Traffic bht tha\n",
      "None\n"
     ]
    }
   ],
   "source": [
    "print(info.get('name'))\n",
    "print(info.get('Name', 'Traffic bht tha'))\n",
    "print(info.get('Topi', 'Traffic bht tha'))"
   ]
  },
  {
   "cell_type": "code",
   "execution_count": 78,
   "id": "0e352a42",
   "metadata": {},
   "outputs": [
    {
     "data": {
      "text/plain": [
       "{'name': 'Ali khan', 'course': 'python', 'city': 'karachi', 'Topi': None}"
      ]
     },
     "execution_count": 78,
     "metadata": {},
     "output_type": "execute_result"
    }
   ],
   "source": [
    "info"
   ]
  },
  {
   "cell_type": "code",
   "execution_count": 76,
   "id": "44582f29",
   "metadata": {},
   "outputs": [
    {
     "data": {
      "text/plain": [
       "'Traffic bht tha'"
      ]
     },
     "execution_count": 76,
     "metadata": {},
     "output_type": "execute_result"
    }
   ],
   "source": [
    "info.get('Name', 'Traffic bht tha')"
   ]
  },
  {
   "cell_type": "code",
   "execution_count": 84,
   "id": "99ea897d",
   "metadata": {},
   "outputs": [
    {
     "name": "stdout",
     "output_type": "stream",
     "text": [
      "0\n"
     ]
    }
   ],
   "source": [
    "values = list(info.values())\n",
    "print(values.index('Ali khan'))"
   ]
  },
  {
   "cell_type": "code",
   "execution_count": null,
   "id": "00329482",
   "metadata": {},
   "outputs": [
    {
     "name": "stdout",
     "output_type": "stream",
     "text": [
      "name\n"
     ]
    }
   ],
   "source": [
    "keys = list(info.keys())\n",
    "print(keys[0])\n",
    "# print(values)"
   ]
  },
  {
   "cell_type": "code",
   "execution_count": 95,
   "id": "ddef6d9e",
   "metadata": {},
   "outputs": [
    {
     "name": "stdout",
     "output_type": "stream",
     "text": [
      "['Ali khan', 'python', 'karachi', None]\n",
      "Index of Ali khan in the list 0\n",
      "['name', 'course', 'city', 'Topi']\n",
      "The key of value \"Ali khan\" is: name\n"
     ]
    }
   ],
   "source": [
    "print(values)\n",
    "print(f\"Index of Ali khan in the list {values.index('Ali khan')}\")\n",
    "print(keys)\n",
    "print(f'The key of value \"Ali khan\" is: {keys[0]}')"
   ]
  },
  {
   "cell_type": "code",
   "execution_count": 98,
   "id": "7a8d80d1",
   "metadata": {},
   "outputs": [],
   "source": [
    "info = {'name': 'Ali khan', 'course': 'python', 'city': 'karachi', 'Topi': None}\n"
   ]
  },
  {
   "cell_type": "code",
   "execution_count": 99,
   "id": "7b2b1eec",
   "metadata": {},
   "outputs": [
    {
     "name": "stdout",
     "output_type": "stream",
     "text": [
      "{'name': 'Ali khan', 'course': 'python', 'city': 'karachi', 'Topi': None}\n",
      "{'name': 'Ali khan', 'course': 'python', 'city': 'karachi', 'Topi': None}\n"
     ]
    }
   ],
   "source": [
    "info_copy = info.copy()\n",
    "print(info)\n",
    "print(info_copy)"
   ]
  },
  {
   "cell_type": "code",
   "execution_count": 100,
   "id": "0dfdb57c",
   "metadata": {},
   "outputs": [],
   "source": [
    "info_copy.pop('Topi')"
   ]
  },
  {
   "cell_type": "code",
   "execution_count": 101,
   "id": "d875b277",
   "metadata": {},
   "outputs": [
    {
     "name": "stdout",
     "output_type": "stream",
     "text": [
      "{'name': 'Ali khan', 'course': 'python', 'city': 'karachi', 'Topi': None}\n",
      "{'name': 'Ali khan', 'course': 'python', 'city': 'karachi'}\n"
     ]
    }
   ],
   "source": [
    "print(info)\n",
    "print(info_copy)"
   ]
  },
  {
   "cell_type": "code",
   "execution_count": null,
   "id": "3152bbef",
   "metadata": {},
   "outputs": [],
   "source": [
    "another_info_copy = info\n"
   ]
  },
  {
   "cell_type": "code",
   "execution_count": 103,
   "id": "450e9e03",
   "metadata": {},
   "outputs": [],
   "source": [
    "another_info_copy['Testing'] = 'any value'"
   ]
  },
  {
   "cell_type": "code",
   "execution_count": 104,
   "id": "5a88cce0",
   "metadata": {},
   "outputs": [
    {
     "name": "stdout",
     "output_type": "stream",
     "text": [
      "{'name': 'Ali khan', 'course': 'python', 'city': 'karachi', 'Topi': None, 'Testing': 'any value'}\n",
      "{'name': 'Ali khan', 'course': 'python', 'city': 'karachi', 'Topi': None, 'Testing': 'any value'}\n"
     ]
    }
   ],
   "source": [
    "print(info)\n",
    "print(another_info_copy)"
   ]
  },
  {
   "cell_type": "code",
   "execution_count": 105,
   "id": "e52be9cc",
   "metadata": {},
   "outputs": [
    {
     "data": {
      "text/plain": [
       "True"
      ]
     },
     "execution_count": 105,
     "metadata": {},
     "output_type": "execute_result"
    }
   ],
   "source": [
    "another_info_copy is info"
   ]
  },
  {
   "cell_type": "code",
   "execution_count": 106,
   "id": "e22695ec",
   "metadata": {},
   "outputs": [
    {
     "data": {
      "text/plain": [
       "False"
      ]
     },
     "execution_count": 106,
     "metadata": {},
     "output_type": "execute_result"
    }
   ],
   "source": [
    "another_info_copy is info_copy"
   ]
  },
  {
   "cell_type": "code",
   "execution_count": null,
   "id": "395d64dc",
   "metadata": {},
   "outputs": [],
   "source": []
  },
  {
   "cell_type": "code",
   "execution_count": null,
   "id": "301231b2",
   "metadata": {},
   "outputs": [],
   "source": []
  },
  {
   "cell_type": "code",
   "execution_count": null,
   "id": "2598964e",
   "metadata": {},
   "outputs": [],
   "source": []
  },
  {
   "cell_type": "code",
   "execution_count": null,
   "id": "2c00be83",
   "metadata": {},
   "outputs": [
    {
     "data": {
      "text/plain": [
       "{}"
      ]
     },
     "execution_count": 97,
     "metadata": {},
     "output_type": "execute_result"
    }
   ],
   "source": [
    "info.clear()"
   ]
  }
 ],
 "metadata": {
  "kernelspec": {
   "display_name": "base",
   "language": "python",
   "name": "python3"
  },
  "language_info": {
   "codemirror_mode": {
    "name": "ipython",
    "version": 3
   },
   "file_extension": ".py",
   "mimetype": "text/x-python",
   "name": "python",
   "nbconvert_exporter": "python",
   "pygments_lexer": "ipython3",
   "version": "3.9.13"
  }
 },
 "nbformat": 4,
 "nbformat_minor": 5
}
