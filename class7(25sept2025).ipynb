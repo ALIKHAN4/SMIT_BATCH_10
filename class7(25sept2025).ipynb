{
 "cells": [
  {
   "cell_type": "code",
   "execution_count": 3,
   "id": "e0c7c1d0",
   "metadata": {},
   "outputs": [
    {
     "name": "stdout",
     "output_type": "stream",
     "text": [
      "My first name is ali and my last name is khan\n"
     ]
    }
   ],
   "source": [
    "fname = input('Enter fisrt name: ').strip()\n",
    "lname = input('Enter last name: ').strip()\n",
    "print(f'My first name is {fname} and my last name is {lname}')"
   ]
  },
  {
   "cell_type": "code",
   "execution_count": 4,
   "id": "2ed2b5aa",
   "metadata": {},
   "outputs": [
    {
     "data": {
      "text/plain": [
       "'pakistan'"
      ]
     },
     "execution_count": 4,
     "metadata": {},
     "output_type": "execute_result"
    }
   ],
   "source": [
    "country = '   pakistan   '\n",
    "country.strip()"
   ]
  },
  {
   "cell_type": "code",
   "execution_count": 8,
   "id": "5df75bed",
   "metadata": {},
   "outputs": [
    {
     "name": "stdout",
     "output_type": "stream",
     "text": [
      "pakistan   \n",
      "   pakistan\n"
     ]
    }
   ],
   "source": [
    "print(country.lstrip())\n",
    "print(country.rstrip())"
   ]
  },
  {
   "cell_type": "code",
   "execution_count": 10,
   "id": "e3865756",
   "metadata": {},
   "outputs": [],
   "source": [
    "info = 'My name is ali khan and i lives in Karachi'"
   ]
  },
  {
   "cell_type": "code",
   "execution_count": 13,
   "id": "449611c6",
   "metadata": {},
   "outputs": [
    {
     "data": {
      "text/plain": [
       "'My name is ali khan and i lives in lahore'"
      ]
     },
     "execution_count": 13,
     "metadata": {},
     "output_type": "execute_result"
    }
   ],
   "source": [
    "info.replace('Karachi', 'lahore')"
   ]
  },
  {
   "cell_type": "code",
   "execution_count": 18,
   "id": "098c7f78",
   "metadata": {},
   "outputs": [],
   "source": [
    "info = info.replace('Karachi', 'Lahore').replace('ali khan', 'nabeel sadiq')"
   ]
  },
  {
   "cell_type": "code",
   "execution_count": 19,
   "id": "ed6a83bb",
   "metadata": {},
   "outputs": [
    {
     "data": {
      "text/plain": [
       "'My name is nabeel sadiq and i lives in Lahore'"
      ]
     },
     "execution_count": 19,
     "metadata": {},
     "output_type": "execute_result"
    }
   ],
   "source": [
    "info"
   ]
  },
  {
   "cell_type": "code",
   "execution_count": 22,
   "id": "8225b38f",
   "metadata": {},
   "outputs": [
    {
     "data": {
      "text/plain": [
       "'My name is nabeel sadiq and i lives in Lahore'"
      ]
     },
     "execution_count": 22,
     "metadata": {},
     "output_type": "execute_result"
    }
   ],
   "source": [
    "info"
   ]
  },
  {
   "cell_type": "code",
   "execution_count": 21,
   "id": "df097b3e",
   "metadata": {},
   "outputs": [
    {
     "ename": "TypeError",
     "evalue": "replace() argument 2 must be str, not int",
     "output_type": "error",
     "traceback": [
      "\u001b[1;31m---------------------------------------------------------------------------\u001b[0m",
      "\u001b[1;31mTypeError\u001b[0m                                 Traceback (most recent call last)",
      "\u001b[1;32m~\\AppData\\Local\\Temp\\ipykernel_16124\\1368872552.py\u001b[0m in \u001b[0;36m<module>\u001b[1;34m\u001b[0m\n\u001b[1;32m----> 1\u001b[1;33m \u001b[0minfo\u001b[0m\u001b[1;33m.\u001b[0m\u001b[0mreplace\u001b[0m\u001b[1;33m(\u001b[0m\u001b[1;34m'Lahore'\u001b[0m\u001b[1;33m,\u001b[0m \u001b[1;36m123\u001b[0m\u001b[1;33m)\u001b[0m\u001b[1;33m\u001b[0m\u001b[1;33m\u001b[0m\u001b[0m\n\u001b[0m",
      "\u001b[1;31mTypeError\u001b[0m: replace() argument 2 must be str, not int"
     ]
    }
   ],
   "source": [
    "info.replace('Lahore', 123)\n"
   ]
  },
  {
   "cell_type": "code",
   "execution_count": 23,
   "id": "9a6306e0",
   "metadata": {},
   "outputs": [
    {
     "data": {
      "text/plain": [
       "'My name is nabeel sadiq and i lives in 123'"
      ]
     },
     "execution_count": 23,
     "metadata": {},
     "output_type": "execute_result"
    }
   ],
   "source": [
    "info.replace('Lahore', '123')"
   ]
  },
  {
   "cell_type": "code",
   "execution_count": 28,
   "id": "2984a8cf",
   "metadata": {},
   "outputs": [
    {
     "data": {
      "text/plain": [
       "-1"
      ]
     },
     "execution_count": 28,
     "metadata": {},
     "output_type": "execute_result"
    }
   ],
   "source": [
    "info.find('lahore')"
   ]
  },
  {
   "cell_type": "code",
   "execution_count": null,
   "id": "c357feca",
   "metadata": {},
   "outputs": [
    {
     "data": {
      "text/plain": [
       "39"
      ]
     },
     "metadata": {},
     "output_type": "display_data"
    }
   ],
   "source": [
    "info.find('Lahore')"
   ]
  },
  {
   "cell_type": "code",
   "execution_count": 34,
   "id": "811f621d",
   "metadata": {},
   "outputs": [],
   "source": [
    "info = 'My name is nabeel sadiq, i live in Lahore and Lahore is a beautiful city'\n"
   ]
  },
  {
   "cell_type": "code",
   "execution_count": 33,
   "id": "91aba3a5",
   "metadata": {},
   "outputs": [
    {
     "data": {
      "text/plain": [
       "'My name is nabeel sadiq, i live in Lahore and Lahore is a beautiful city'"
      ]
     },
     "execution_count": 33,
     "metadata": {},
     "output_type": "execute_result"
    }
   ],
   "source": [
    "info"
   ]
  },
  {
   "cell_type": "code",
   "execution_count": 39,
   "id": "455a6c51",
   "metadata": {},
   "outputs": [
    {
     "data": {
      "text/plain": [
       "35"
      ]
     },
     "execution_count": 39,
     "metadata": {},
     "output_type": "execute_result"
    }
   ],
   "source": [
    "info.find('Lahore')"
   ]
  },
  {
   "cell_type": "code",
   "execution_count": null,
   "id": "12092cf9",
   "metadata": {},
   "outputs": [
    {
     "data": {
      "text/plain": [
       "46"
      ]
     },
     "metadata": {},
     "output_type": "display_data"
    }
   ],
   "source": [
    "info.rfind('Lahore')"
   ]
  },
  {
   "cell_type": "code",
   "execution_count": 41,
   "id": "dbe87573",
   "metadata": {},
   "outputs": [],
   "source": [
    "info = 'My name is nabeel sadiq, i live in Lahore and Lahore is a beautiful city and i dont want to leave Lahore'\n"
   ]
  },
  {
   "cell_type": "code",
   "execution_count": 42,
   "id": "6bee1b15",
   "metadata": {},
   "outputs": [
    {
     "data": {
      "text/plain": [
       "35"
      ]
     },
     "execution_count": 42,
     "metadata": {},
     "output_type": "execute_result"
    }
   ],
   "source": [
    "info.find('Lahore')"
   ]
  },
  {
   "cell_type": "code",
   "execution_count": 43,
   "id": "6f8baec2",
   "metadata": {},
   "outputs": [
    {
     "data": {
      "text/plain": [
       "98"
      ]
     },
     "execution_count": 43,
     "metadata": {},
     "output_type": "execute_result"
    }
   ],
   "source": [
    "info.rfind('Lahore')"
   ]
  },
  {
   "cell_type": "code",
   "execution_count": 44,
   "id": "f87c0a84",
   "metadata": {},
   "outputs": [
    {
     "data": {
      "text/plain": [
       "35"
      ]
     },
     "execution_count": 44,
     "metadata": {},
     "output_type": "execute_result"
    }
   ],
   "source": [
    "info.index('Lahore')"
   ]
  },
  {
   "cell_type": "code",
   "execution_count": null,
   "id": "c15d14cf",
   "metadata": {},
   "outputs": [
    {
     "data": {
      "text/plain": [
       "98"
      ]
     },
     "execution_count": 45,
     "metadata": {},
     "output_type": "execute_result"
    }
   ],
   "source": [
    "info.rindex('Lahore')"
   ]
  },
  {
   "cell_type": "code",
   "execution_count": 46,
   "id": "2e4ea641",
   "metadata": {},
   "outputs": [
    {
     "ename": "ValueError",
     "evalue": "substring not found",
     "output_type": "error",
     "traceback": [
      "\u001b[1;31m---------------------------------------------------------------------------\u001b[0m",
      "\u001b[1;31mValueError\u001b[0m                                Traceback (most recent call last)",
      "\u001b[1;32m~\\AppData\\Local\\Temp\\ipykernel_16124\\1716375671.py\u001b[0m in \u001b[0;36m<module>\u001b[1;34m\u001b[0m\n\u001b[1;32m----> 1\u001b[1;33m \u001b[0minfo\u001b[0m\u001b[1;33m.\u001b[0m\u001b[0mrindex\u001b[0m\u001b[1;33m(\u001b[0m\u001b[1;34m'lahore'\u001b[0m\u001b[1;33m)\u001b[0m\u001b[1;33m\u001b[0m\u001b[1;33m\u001b[0m\u001b[0m\n\u001b[0m",
      "\u001b[1;31mValueError\u001b[0m: substring not found"
     ]
    }
   ],
   "source": [
    "info.rindex('lahore')"
   ]
  },
  {
   "cell_type": "code",
   "execution_count": 51,
   "id": "70d239b1",
   "metadata": {},
   "outputs": [],
   "source": [
    "start = info.find('i live')"
   ]
  },
  {
   "cell_type": "code",
   "execution_count": 52,
   "id": "562103b8",
   "metadata": {},
   "outputs": [],
   "source": [
    "end = info.find('city') + len('city') - 1"
   ]
  },
  {
   "cell_type": "code",
   "execution_count": 53,
   "id": "2eb152d9",
   "metadata": {},
   "outputs": [
    {
     "data": {
      "text/plain": [
       "35"
      ]
     },
     "execution_count": 53,
     "metadata": {},
     "output_type": "execute_result"
    }
   ],
   "source": [
    "info.find('Lahore',start, end)"
   ]
  },
  {
   "cell_type": "code",
   "execution_count": 56,
   "id": "631cc0f5",
   "metadata": {},
   "outputs": [
    {
     "data": {
      "text/plain": [
       "'My name is nabeel sadiq, i live in Lahore and Lahore is a beautiful city and i dont want to leave Lahore'"
      ]
     },
     "execution_count": 56,
     "metadata": {},
     "output_type": "execute_result"
    }
   ],
   "source": [
    "info"
   ]
  },
  {
   "cell_type": "code",
   "execution_count": 55,
   "id": "987df6a5",
   "metadata": {},
   "outputs": [
    {
     "data": {
      "text/plain": [
       "68"
      ]
     },
     "execution_count": 55,
     "metadata": {},
     "output_type": "execute_result"
    }
   ],
   "source": [
    "info.find('city')"
   ]
  }
 ],
 "metadata": {
  "kernelspec": {
   "display_name": "base",
   "language": "python",
   "name": "python3"
  },
  "language_info": {
   "codemirror_mode": {
    "name": "ipython",
    "version": 3
   },
   "file_extension": ".py",
   "mimetype": "text/x-python",
   "name": "python",
   "nbconvert_exporter": "python",
   "pygments_lexer": "ipython3",
   "version": "3.9.13"
  }
 },
 "nbformat": 4,
 "nbformat_minor": 5
}
