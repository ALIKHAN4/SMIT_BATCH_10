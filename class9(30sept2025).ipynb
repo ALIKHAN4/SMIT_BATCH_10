{
 "cells": [
  {
   "cell_type": "code",
   "execution_count": 3,
   "id": "bbe4b910",
   "metadata": {},
   "outputs": [],
   "source": [
    "cities = ['Karachi', 'Lahore', 'Quetta', 'Murre', 'Larkana']"
   ]
  },
  {
   "cell_type": "code",
   "execution_count": 4,
   "id": "5e412942",
   "metadata": {},
   "outputs": [],
   "source": [
    "cities.append('Multan')"
   ]
  },
  {
   "cell_type": "code",
   "execution_count": 6,
   "id": "6554ebf8",
   "metadata": {},
   "outputs": [
    {
     "ename": "TypeError",
     "evalue": "list.append() takes exactly one argument (2 given)",
     "output_type": "error",
     "traceback": [
      "\u001b[1;31m---------------------------------------------------------------------------\u001b[0m",
      "\u001b[1;31mTypeError\u001b[0m                                 Traceback (most recent call last)",
      "\u001b[1;32m~\\AppData\\Local\\Temp\\ipykernel_6888\\2669314697.py\u001b[0m in \u001b[0;36m<module>\u001b[1;34m\u001b[0m\n\u001b[1;32m----> 1\u001b[1;33m \u001b[0mcities\u001b[0m\u001b[1;33m.\u001b[0m\u001b[0mappend\u001b[0m\u001b[1;33m(\u001b[0m\u001b[1;34m'First value'\u001b[0m\u001b[1;33m,\u001b[0m \u001b[1;34m'second value'\u001b[0m\u001b[1;33m)\u001b[0m\u001b[1;33m\u001b[0m\u001b[1;33m\u001b[0m\u001b[0m\n\u001b[0m",
      "\u001b[1;31mTypeError\u001b[0m: list.append() takes exactly one argument (2 given)"
     ]
    }
   ],
   "source": [
    "cities.append('First value', 'second value')"
   ]
  },
  {
   "cell_type": "code",
   "execution_count": 7,
   "id": "3b0392a7",
   "metadata": {},
   "outputs": [],
   "source": [
    "cities.insert(2, 'Sawat')"
   ]
  },
  {
   "cell_type": "code",
   "execution_count": 10,
   "id": "8459c0df",
   "metadata": {},
   "outputs": [
    {
     "ename": "TypeError",
     "evalue": "insert expected 2 arguments, got 3",
     "output_type": "error",
     "traceback": [
      "\u001b[1;31m---------------------------------------------------------------------------\u001b[0m",
      "\u001b[1;31mTypeError\u001b[0m                                 Traceback (most recent call last)",
      "\u001b[1;32m~\\AppData\\Local\\Temp\\ipykernel_6888\\2240721979.py\u001b[0m in \u001b[0;36m<module>\u001b[1;34m\u001b[0m\n\u001b[1;32m----> 1\u001b[1;33m \u001b[0mcities\u001b[0m\u001b[1;33m.\u001b[0m\u001b[0minsert\u001b[0m\u001b[1;33m(\u001b[0m\u001b[1;36m3\u001b[0m\u001b[1;33m,\u001b[0m \u001b[1;34m'firstvalue'\u001b[0m\u001b[1;33m,\u001b[0m \u001b[1;34m'secondvlaue4'\u001b[0m\u001b[1;33m)\u001b[0m\u001b[1;33m\u001b[0m\u001b[1;33m\u001b[0m\u001b[0m\n\u001b[0m",
      "\u001b[1;31mTypeError\u001b[0m: insert expected 2 arguments, got 3"
     ]
    }
   ],
   "source": [
    "cities.insert(3, 'firstvalue', 'secondvlaue4')"
   ]
  },
  {
   "cell_type": "code",
   "execution_count": 11,
   "id": "3b8f7659",
   "metadata": {},
   "outputs": [],
   "source": [
    "new_cities = ['Naran', 'Kaghan']"
   ]
  },
  {
   "cell_type": "code",
   "execution_count": 12,
   "id": "f435f4cd",
   "metadata": {},
   "outputs": [],
   "source": [
    "cities.append(new_cities)"
   ]
  },
  {
   "cell_type": "code",
   "execution_count": 13,
   "id": "82009846",
   "metadata": {},
   "outputs": [
    {
     "data": {
      "text/plain": [
       "['Karachi',\n",
       " 'Lahore',\n",
       " 'Sawat',\n",
       " 'Quetta',\n",
       " 'Murre',\n",
       " 'Larkana',\n",
       " 'Multan',\n",
       " ['Naran', 'Kaghan']]"
      ]
     },
     "execution_count": 13,
     "metadata": {},
     "output_type": "execute_result"
    }
   ],
   "source": [
    "cities"
   ]
  },
  {
   "cell_type": "code",
   "execution_count": 14,
   "id": "95ea3cd1",
   "metadata": {},
   "outputs": [],
   "source": [
    "cities.insert(0, new_cities)"
   ]
  },
  {
   "cell_type": "code",
   "execution_count": 15,
   "id": "affe62ba",
   "metadata": {},
   "outputs": [
    {
     "data": {
      "text/plain": [
       "[['Naran', 'Kaghan'],\n",
       " 'Karachi',\n",
       " 'Lahore',\n",
       " 'Sawat',\n",
       " 'Quetta',\n",
       " 'Murre',\n",
       " 'Larkana',\n",
       " 'Multan',\n",
       " ['Naran', 'Kaghan']]"
      ]
     },
     "execution_count": 15,
     "metadata": {},
     "output_type": "execute_result"
    }
   ],
   "source": [
    "cities"
   ]
  },
  {
   "cell_type": "code",
   "execution_count": 17,
   "id": "96b44d44",
   "metadata": {},
   "outputs": [
    {
     "name": "stdout",
     "output_type": "stream",
     "text": [
      "[['Naran', 'Kaghan'], 'Karachi', 'Lahore', 'Sawat', 'Quetta', 'Murre', 'Larkana', 'Multan', ['Naran', 'Kaghan']]\n",
      "['Naran', 'Kaghan']\n"
     ]
    }
   ],
   "source": [
    "print(cities)\n",
    "print(new_cities)"
   ]
  },
  {
   "cell_type": "code",
   "execution_count": 18,
   "id": "b84fb404",
   "metadata": {},
   "outputs": [],
   "source": [
    "fav_cities = ['Islamabad', 'Thatta']"
   ]
  },
  {
   "cell_type": "code",
   "execution_count": 19,
   "id": "40669400",
   "metadata": {},
   "outputs": [
    {
     "name": "stdout",
     "output_type": "stream",
     "text": [
      "['Naran', 'Kaghan']\n",
      "['Islamabad', 'Thatta']\n"
     ]
    }
   ],
   "source": [
    "print(new_cities)\n",
    "print(fav_cities)"
   ]
  },
  {
   "cell_type": "code",
   "execution_count": 23,
   "id": "1ccfe8fc",
   "metadata": {},
   "outputs": [],
   "source": [
    "combined_cities = new_cities + fav_cities"
   ]
  },
  {
   "cell_type": "code",
   "execution_count": 24,
   "id": "6b6d0a38",
   "metadata": {},
   "outputs": [
    {
     "data": {
      "text/plain": [
       "['Naran', 'Kaghan', 'Islamabad', 'Thatta', 'Naran', 'Kaghan']"
      ]
     },
     "execution_count": 24,
     "metadata": {},
     "output_type": "execute_result"
    }
   ],
   "source": [
    "combined_cities"
   ]
  },
  {
   "cell_type": "code",
   "execution_count": 21,
   "id": "ab238acc",
   "metadata": {},
   "outputs": [],
   "source": [
    "fav_cities.extend(new_cities)"
   ]
  },
  {
   "cell_type": "code",
   "execution_count": 25,
   "id": "05bbf14f",
   "metadata": {},
   "outputs": [],
   "source": [
    "fruits = ['Apple', 'Mango', 'Kiwi', 'Peach']\n",
    "fav_fruits = ['Banana', 'Orange']"
   ]
  },
  {
   "cell_type": "code",
   "execution_count": 28,
   "id": "1932639e",
   "metadata": {},
   "outputs": [
    {
     "data": {
      "text/plain": [
       "['Banana', 'Orange']"
      ]
     },
     "execution_count": 28,
     "metadata": {},
     "output_type": "execute_result"
    }
   ],
   "source": [
    "fruits\n",
    "fav_fruits"
   ]
  },
  {
   "cell_type": "code",
   "execution_count": 29,
   "id": "76506411",
   "metadata": {},
   "outputs": [],
   "source": [
    "all_fruits = fruits + fav_fruits"
   ]
  },
  {
   "cell_type": "code",
   "execution_count": 30,
   "id": "6067f309",
   "metadata": {},
   "outputs": [
    {
     "data": {
      "text/plain": [
       "['Apple', 'Mango', 'Kiwi', 'Peach', 'Banana', 'Orange']"
      ]
     },
     "execution_count": 30,
     "metadata": {},
     "output_type": "execute_result"
    }
   ],
   "source": [
    "all_fruits"
   ]
  },
  {
   "cell_type": "code",
   "execution_count": 31,
   "id": "8a8b55dd",
   "metadata": {},
   "outputs": [
    {
     "data": {
      "text/plain": [
       "6"
      ]
     },
     "execution_count": 31,
     "metadata": {},
     "output_type": "execute_result"
    }
   ],
   "source": [
    "len(all_fruits)"
   ]
  },
  {
   "cell_type": "code",
   "execution_count": 32,
   "id": "a77087b5",
   "metadata": {},
   "outputs": [
    {
     "data": {
      "text/plain": [
       "'Kiwi'"
      ]
     },
     "execution_count": 32,
     "metadata": {},
     "output_type": "execute_result"
    }
   ],
   "source": [
    "all_fruits[2]"
   ]
  },
  {
   "cell_type": "code",
   "execution_count": 33,
   "id": "86f1e02b",
   "metadata": {},
   "outputs": [
    {
     "data": {
      "text/plain": [
       "2"
      ]
     },
     "execution_count": 33,
     "metadata": {},
     "output_type": "execute_result"
    }
   ],
   "source": [
    "all_fruits.index('Kiwi')"
   ]
  },
  {
   "cell_type": "code",
   "execution_count": null,
   "id": "6ae2d48b",
   "metadata": {},
   "outputs": [
    {
     "data": {
      "text/plain": [
       "['Apple', 'Mango', 'Kiwi', 'Peach', 'Banana', 'Orange']"
      ]
     },
     "execution_count": 34,
     "metadata": {},
     "output_type": "execute_result"
    }
   ],
   "source": [
    "all_fruits"
   ]
  },
  {
   "cell_type": "code",
   "execution_count": null,
   "id": "fecbbcb3",
   "metadata": {},
   "outputs": [
    {
     "data": {
      "text/plain": [
       "2"
      ]
     },
     "execution_count": 36,
     "metadata": {},
     "output_type": "execute_result"
    }
   ],
   "source": [
    "index = all_fruits.index('Kiwi')"
   ]
  },
  {
   "cell_type": "code",
   "execution_count": null,
   "id": "ff92f9ad",
   "metadata": {},
   "outputs": [],
   "source": [
    "all_fruits.insert(index, 'Grapes')"
   ]
  },
  {
   "cell_type": "code",
   "execution_count": 39,
   "id": "1d6d435d",
   "metadata": {},
   "outputs": [
    {
     "data": {
      "text/plain": [
       "['Apple', 'Mango', 'Grapes', 'Kiwi', 'Peach', 'Banana', 'Orange']"
      ]
     },
     "execution_count": 39,
     "metadata": {},
     "output_type": "execute_result"
    }
   ],
   "source": [
    "all_fruits"
   ]
  },
  {
   "cell_type": "code",
   "execution_count": 44,
   "id": "65015c28",
   "metadata": {},
   "outputs": [
    {
     "data": {
      "text/plain": [
       "3"
      ]
     },
     "execution_count": 44,
     "metadata": {},
     "output_type": "execute_result"
    }
   ],
   "source": [
    "all_fruits.index('Kiwi', 0, 4)"
   ]
  },
  {
   "cell_type": "code",
   "execution_count": 46,
   "id": "d5b662b2",
   "metadata": {},
   "outputs": [],
   "source": [
    "all_fruits.remove('Grapes')"
   ]
  },
  {
   "cell_type": "code",
   "execution_count": 48,
   "id": "038c49ca",
   "metadata": {},
   "outputs": [
    {
     "ename": "ValueError",
     "evalue": "list.remove(x): x not in list",
     "output_type": "error",
     "traceback": [
      "\u001b[1;31m---------------------------------------------------------------------------\u001b[0m",
      "\u001b[1;31mValueError\u001b[0m                                Traceback (most recent call last)",
      "\u001b[1;32m~\\AppData\\Local\\Temp\\ipykernel_6888\\751906224.py\u001b[0m in \u001b[0;36m<module>\u001b[1;34m\u001b[0m\n\u001b[1;32m----> 1\u001b[1;33m \u001b[0mall_fruits\u001b[0m\u001b[1;33m.\u001b[0m\u001b[0mremove\u001b[0m\u001b[1;33m(\u001b[0m\u001b[1;34m'Grapes'\u001b[0m\u001b[1;33m)\u001b[0m\u001b[1;33m\u001b[0m\u001b[1;33m\u001b[0m\u001b[0m\n\u001b[0m",
      "\u001b[1;31mValueError\u001b[0m: list.remove(x): x not in list"
     ]
    }
   ],
   "source": [
    "all_fruits.remove('Grapes')"
   ]
  },
  {
   "cell_type": "code",
   "execution_count": 50,
   "id": "12ce5ac4",
   "metadata": {},
   "outputs": [],
   "source": [
    "all_fruits.append('Grapes')"
   ]
  },
  {
   "cell_type": "code",
   "execution_count": 52,
   "id": "5b72aadc",
   "metadata": {},
   "outputs": [],
   "source": [
    "all_fruits.insert(3,'Grapes')"
   ]
  },
  {
   "cell_type": "code",
   "execution_count": 54,
   "id": "097883da",
   "metadata": {},
   "outputs": [],
   "source": [
    "all_fruits.remove('Grapes')"
   ]
  },
  {
   "cell_type": "code",
   "execution_count": 55,
   "id": "2dec9ca3",
   "metadata": {},
   "outputs": [
    {
     "data": {
      "text/plain": [
       "['Apple', 'Mango', 'Kiwi', 'Peach', 'Banana', 'Orange', 'Grapes']"
      ]
     },
     "execution_count": 55,
     "metadata": {},
     "output_type": "execute_result"
    }
   ],
   "source": [
    "all_fruits"
   ]
  },
  {
   "cell_type": "code",
   "execution_count": 57,
   "id": "b60690c9",
   "metadata": {},
   "outputs": [],
   "source": [
    "removed_fruit = all_fruits.remove('Apple')"
   ]
  },
  {
   "cell_type": "code",
   "execution_count": 60,
   "id": "40114c2b",
   "metadata": {},
   "outputs": [
    {
     "name": "stdout",
     "output_type": "stream",
     "text": [
      "None\n"
     ]
    }
   ],
   "source": [
    "print(removed_fruit)\n"
   ]
  },
  {
   "cell_type": "code",
   "execution_count": 62,
   "id": "5de5ade8",
   "metadata": {},
   "outputs": [],
   "source": [
    "pop_fruit = all_fruits.pop()"
   ]
  },
  {
   "cell_type": "code",
   "execution_count": 64,
   "id": "35fde8cd",
   "metadata": {},
   "outputs": [
    {
     "name": "stdout",
     "output_type": "stream",
     "text": [
      "Grapes\n",
      "['Mango', 'Kiwi', 'Peach', 'Banana', 'Orange']\n"
     ]
    }
   ],
   "source": [
    "print(pop_fruit)\n",
    "print(all_fruits)"
   ]
  },
  {
   "cell_type": "code",
   "execution_count": 65,
   "id": "f925dd4c",
   "metadata": {},
   "outputs": [],
   "source": [
    "kiwi = all_fruits.pop(1)"
   ]
  },
  {
   "cell_type": "code",
   "execution_count": 67,
   "id": "ac7d8c4a",
   "metadata": {},
   "outputs": [
    {
     "name": "stdout",
     "output_type": "stream",
     "text": [
      "Kiwi\n",
      "['Mango', 'Peach', 'Banana', 'Orange']\n"
     ]
    }
   ],
   "source": [
    "print(kiwi)\n",
    "print(all_fruits)"
   ]
  },
  {
   "cell_type": "code",
   "execution_count": 68,
   "id": "ba04a42d",
   "metadata": {},
   "outputs": [],
   "source": [
    "del all_fruits[1]"
   ]
  },
  {
   "cell_type": "code",
   "execution_count": 69,
   "id": "5dca0455",
   "metadata": {},
   "outputs": [
    {
     "data": {
      "text/plain": [
       "['Mango', 'Banana', 'Orange']"
      ]
     },
     "execution_count": 69,
     "metadata": {},
     "output_type": "execute_result"
    }
   ],
   "source": [
    "all_fruits"
   ]
  },
  {
   "cell_type": "code",
   "execution_count": 70,
   "id": "1c18d8ae",
   "metadata": {},
   "outputs": [
    {
     "ename": "SyntaxError",
     "evalue": "invalid syntax (2216834211.py, line 1)",
     "output_type": "error",
     "traceback": [
      "\u001b[1;36m  File \u001b[1;32m\"C:\\Users\\SMIT\\AppData\\Local\\Temp\\ipykernel_6888\\2216834211.py\"\u001b[1;36m, line \u001b[1;32m1\u001b[0m\n\u001b[1;33m    banana = del all_fruits[1]\u001b[0m\n\u001b[1;37m             ^\u001b[0m\n\u001b[1;31mSyntaxError\u001b[0m\u001b[1;31m:\u001b[0m invalid syntax\n"
     ]
    }
   ],
   "source": [
    "banana = del all_fruits[1]"
   ]
  },
  {
   "cell_type": "code",
   "execution_count": 71,
   "id": "7a199c87",
   "metadata": {},
   "outputs": [],
   "source": [
    "del all_fruits"
   ]
  },
  {
   "cell_type": "code",
   "execution_count": 72,
   "id": "6af1e67a",
   "metadata": {},
   "outputs": [
    {
     "ename": "NameError",
     "evalue": "name 'all_fruits' is not defined",
     "output_type": "error",
     "traceback": [
      "\u001b[1;31m---------------------------------------------------------------------------\u001b[0m",
      "\u001b[1;31mNameError\u001b[0m                                 Traceback (most recent call last)",
      "\u001b[1;32m~\\AppData\\Local\\Temp\\ipykernel_6888\\35473033.py\u001b[0m in \u001b[0;36m<module>\u001b[1;34m\u001b[0m\n\u001b[1;32m----> 1\u001b[1;33m \u001b[0mall_fruits\u001b[0m\u001b[1;33m\u001b[0m\u001b[1;33m\u001b[0m\u001b[0m\n\u001b[0m",
      "\u001b[1;31mNameError\u001b[0m: name 'all_fruits' is not defined"
     ]
    }
   ],
   "source": [
    "all_fruits"
   ]
  },
  {
   "cell_type": "code",
   "execution_count": null,
   "id": "1a024809",
   "metadata": {},
   "outputs": [],
   "source": []
  }
 ],
 "metadata": {
  "kernelspec": {
   "display_name": "base",
   "language": "python",
   "name": "python3"
  },
  "language_info": {
   "codemirror_mode": {
    "name": "ipython",
    "version": 3
   },
   "file_extension": ".py",
   "mimetype": "text/x-python",
   "name": "python",
   "nbconvert_exporter": "python",
   "pygments_lexer": "ipython3",
   "version": "3.9.13"
  }
 },
 "nbformat": 4,
 "nbformat_minor": 5
}
