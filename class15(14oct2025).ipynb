{
 "cells": [
  {
   "cell_type": "markdown",
   "id": "e6e2b719",
   "metadata": {},
   "source": [
    "# Nested for loop"
   ]
  },
  {
   "cell_type": "code",
   "execution_count": null,
   "id": "02de5195",
   "metadata": {},
   "outputs": [],
   "source": [
    "for i in range(1,11):\n",
    "    print(f'2 x {i} = {2*i}')\n"
   ]
  },
  {
   "cell_type": "code",
   "execution_count": 3,
   "id": "4b52fbc3",
   "metadata": {},
   "outputs": [
    {
     "name": "stdout",
     "output_type": "stream",
     "text": [
      "size : Small, color: Red\n",
      "size : Medium, color: Red\n",
      "size : Large, color: Red\n",
      "size : Small, color: Blue\n",
      "size : Medium, color: Blue\n",
      "size : Large, color: Blue\n"
     ]
    }
   ],
   "source": [
    "colors = [\"Red\", \"Blue\"]\n",
    "sizes = [\"Small\", \"Medium\", \"Large\"]\n",
    "\n",
    "for color in colors:\n",
    "    for size in sizes:\n",
    "        print(f'size : {size}, color: {color}')\n",
    "\n",
    "\n",
    "# size : Small, color: Red\n",
    "# size : Medium, color: Red\n",
    "# size : Large, color: Red\n",
    "# size : Small, color: Blue\n",
    "# size : Medium, color: Blue\n",
    "# size : Large, color: Blue"
   ]
  },
  {
   "cell_type": "code",
   "execution_count": null,
   "id": "d8e49982",
   "metadata": {},
   "outputs": [],
   "source": [
    "# print those city/cities having all characters unique (not repetitive)\n",
    "cities = ['Karachi', 'Lahore', 'Quetta', 'Dadu', 'Murre']"
   ]
  },
  {
   "cell_type": "code",
   "execution_count": null,
   "id": "97188737",
   "metadata": {},
   "outputs": [
    {
     "name": "stdout",
     "output_type": "stream",
     "text": [
      "Lahore\n"
     ]
    }
   ],
   "source": [
    "for city in cities:\n",
    "    charcount = True\n",
    "    for char in city:\n",
    "        if city.lower().count(char) > 1:\n",
    "            charcount = False\n",
    "            break\n",
    "    # if charcount == True:\n",
    "    if charcount:\n",
    "        print(city)\n",
    "\n"
   ]
  },
  {
   "cell_type": "code",
   "execution_count": 6,
   "id": "8fc5b44d",
   "metadata": {},
   "outputs": [
    {
     "name": "stdout",
     "output_type": "stream",
     "text": [
      "Lahore\n"
     ]
    }
   ],
   "source": [
    "for city in cities:\n",
    "    empty_set = set()    \n",
    "    for char in city.lower():\n",
    "        empty_set.add(char)\n",
    "    if len(empty_set) == len(city):\n",
    "        print(city)"
   ]
  },
  {
   "cell_type": "markdown",
   "id": "2ca0ddfc",
   "metadata": {},
   "source": [
    "# While Loop"
   ]
  },
  {
   "cell_type": "code",
   "execution_count": 21,
   "id": "d9961ebd",
   "metadata": {},
   "outputs": [
    {
     "name": "stdout",
     "output_type": "stream",
     "text": [
      "You are eligible for cnic\n"
     ]
    }
   ],
   "source": [
    "flag = True\n",
    "# while condition\n",
    "while flag:\n",
    "    country = input('Enter your country name: ').lower()\n",
    "    country = country[:8]\n",
    "    if country == 'pakistan':\n",
    "        print('You are eligible for cnic')\n",
    "        flag = False\n",
    "    else:\n",
    "        print(f'This country {country} is not eligible')\n"
   ]
  },
  {
   "cell_type": "code",
   "execution_count": null,
   "id": "a4840409",
   "metadata": {},
   "outputs": [],
   "source": []
  },
  {
   "cell_type": "code",
   "execution_count": 23,
   "id": "ff362eac",
   "metadata": {},
   "outputs": [
    {
     "name": "stdout",
     "output_type": "stream",
     "text": [
      "32.0\n"
     ]
    }
   ],
   "source": [
    "length = float(input('Enter length'))\n",
    "width = float(input('Enter width'))\n",
    "\n",
    "if length == width:\n",
    "    print(length * width)\n",
    "else:\n",
    "    print(2 * (length + width))"
   ]
  },
  {
   "cell_type": "code",
   "execution_count": null,
   "id": "53c519f2",
   "metadata": {},
   "outputs": [],
   "source": []
  }
 ],
 "metadata": {
  "kernelspec": {
   "display_name": "base",
   "language": "python",
   "name": "python3"
  },
  "language_info": {
   "codemirror_mode": {
    "name": "ipython",
    "version": 3
   },
   "file_extension": ".py",
   "mimetype": "text/x-python",
   "name": "python",
   "nbconvert_exporter": "python",
   "pygments_lexer": "ipython3",
   "version": "3.9.13"
  }
 },
 "nbformat": 4,
 "nbformat_minor": 5
}
