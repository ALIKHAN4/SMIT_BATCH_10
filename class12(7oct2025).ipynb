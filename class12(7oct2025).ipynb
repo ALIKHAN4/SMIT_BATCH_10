{
 "cells": [
  {
   "cell_type": "markdown",
   "id": "697f26ec",
   "metadata": {
    "vscode": {
     "languageId": "plaintext"
    }
   },
   "source": [
    "# Tuple"
   ]
  },
  {
   "cell_type": "code",
   "execution_count": 1,
   "id": "1ee521bc",
   "metadata": {},
   "outputs": [],
   "source": [
    "cities = ('Karachi', 'lahore', 'Murre')"
   ]
  },
  {
   "cell_type": "code",
   "execution_count": 2,
   "id": "e450fe80",
   "metadata": {},
   "outputs": [
    {
     "data": {
      "text/plain": [
       "('Karachi', 'lahore', 'Murre')"
      ]
     },
     "execution_count": 2,
     "metadata": {},
     "output_type": "execute_result"
    }
   ],
   "source": [
    "cities"
   ]
  },
  {
   "cell_type": "code",
   "execution_count": 4,
   "id": "af9b4ef7",
   "metadata": {},
   "outputs": [
    {
     "data": {
      "text/plain": [
       "tuple"
      ]
     },
     "execution_count": 4,
     "metadata": {},
     "output_type": "execute_result"
    }
   ],
   "source": [
    "type(cities)"
   ]
  },
  {
   "cell_type": "code",
   "execution_count": 6,
   "id": "99802191",
   "metadata": {},
   "outputs": [
    {
     "data": {
      "text/plain": [
       "3"
      ]
     },
     "execution_count": 6,
     "metadata": {},
     "output_type": "execute_result"
    }
   ],
   "source": [
    "len(cities)"
   ]
  },
  {
   "cell_type": "code",
   "execution_count": 8,
   "id": "58f1be35",
   "metadata": {},
   "outputs": [
    {
     "name": "stdout",
     "output_type": "stream",
     "text": [
      "1\n",
      "0\n"
     ]
    }
   ],
   "source": [
    "print(cities.count('Karachi'))\n",
    "print(cities.index('Karachi'))"
   ]
  },
  {
   "cell_type": "code",
   "execution_count": 9,
   "id": "d0669b04",
   "metadata": {},
   "outputs": [
    {
     "data": {
      "text/plain": [
       "'lahore'"
      ]
     },
     "execution_count": 9,
     "metadata": {},
     "output_type": "execute_result"
    }
   ],
   "source": [
    "cities[1]"
   ]
  },
  {
   "cell_type": "code",
   "execution_count": 11,
   "id": "99f07da0",
   "metadata": {},
   "outputs": [
    {
     "ename": "TypeError",
     "evalue": "'tuple' object does not support item assignment",
     "output_type": "error",
     "traceback": [
      "\u001b[1;31m---------------------------------------------------------------------------\u001b[0m",
      "\u001b[1;31mTypeError\u001b[0m                                 Traceback (most recent call last)",
      "\u001b[1;32m~\\AppData\\Local\\Temp\\ipykernel_2360\\1990100381.py\u001b[0m in \u001b[0;36m<module>\u001b[1;34m\u001b[0m\n\u001b[1;32m----> 1\u001b[1;33m \u001b[0mcities\u001b[0m\u001b[1;33m[\u001b[0m\u001b[1;36m1\u001b[0m\u001b[1;33m]\u001b[0m \u001b[1;33m=\u001b[0m \u001b[1;34m'Ali Khan'\u001b[0m\u001b[1;33m\u001b[0m\u001b[1;33m\u001b[0m\u001b[0m\n\u001b[0m",
      "\u001b[1;31mTypeError\u001b[0m: 'tuple' object does not support item assignment"
     ]
    }
   ],
   "source": [
    "cities[1] = 'Ali Khan'"
   ]
  },
  {
   "cell_type": "code",
   "execution_count": 13,
   "id": "ea20f8d8",
   "metadata": {},
   "outputs": [
    {
     "ename": "TypeError",
     "evalue": "'tuple' object doesn't support item deletion",
     "output_type": "error",
     "traceback": [
      "\u001b[1;31m---------------------------------------------------------------------------\u001b[0m",
      "\u001b[1;31mTypeError\u001b[0m                                 Traceback (most recent call last)",
      "\u001b[1;32m~\\AppData\\Local\\Temp\\ipykernel_2360\\3827218380.py\u001b[0m in \u001b[0;36m<module>\u001b[1;34m\u001b[0m\n\u001b[1;32m----> 1\u001b[1;33m \u001b[1;32mdel\u001b[0m \u001b[0mcities\u001b[0m\u001b[1;33m[\u001b[0m\u001b[1;36m1\u001b[0m\u001b[1;33m]\u001b[0m\u001b[1;33m\u001b[0m\u001b[1;33m\u001b[0m\u001b[0m\n\u001b[0m",
      "\u001b[1;31mTypeError\u001b[0m: 'tuple' object doesn't support item deletion"
     ]
    }
   ],
   "source": [
    "del cities[1]"
   ]
  },
  {
   "cell_type": "markdown",
   "id": "1757f74f",
   "metadata": {},
   "source": [
    "# Sets"
   ]
  },
  {
   "cell_type": "markdown",
   "id": "f49da340",
   "metadata": {},
   "source": [
    "A set is a collection of well defined and unique objects"
   ]
  },
  {
   "cell_type": "code",
   "execution_count": null,
   "id": "8635a58b",
   "metadata": {},
   "outputs": [],
   "source": [
    "cities = {}"
   ]
  },
  {
   "cell_type": "code",
   "execution_count": 16,
   "id": "09e1d56f",
   "metadata": {},
   "outputs": [
    {
     "data": {
      "text/plain": [
       "dict"
      ]
     },
     "execution_count": 16,
     "metadata": {},
     "output_type": "execute_result"
    }
   ],
   "source": [
    "type(cities)"
   ]
  },
  {
   "cell_type": "code",
   "execution_count": 20,
   "id": "f82416e0",
   "metadata": {},
   "outputs": [],
   "source": [
    "fruits = set() #empty set"
   ]
  },
  {
   "cell_type": "code",
   "execution_count": 21,
   "id": "3a6b34f9",
   "metadata": {},
   "outputs": [
    {
     "data": {
      "text/plain": [
       "set()"
      ]
     },
     "execution_count": 21,
     "metadata": {},
     "output_type": "execute_result"
    }
   ],
   "source": [
    "fruits"
   ]
  },
  {
   "cell_type": "code",
   "execution_count": 19,
   "id": "456702e9",
   "metadata": {},
   "outputs": [
    {
     "data": {
      "text/plain": [
       "set"
      ]
     },
     "execution_count": 19,
     "metadata": {},
     "output_type": "execute_result"
    }
   ],
   "source": [
    "type(fruits)"
   ]
  },
  {
   "cell_type": "code",
   "execution_count": 25,
   "id": "c8b5b0e3",
   "metadata": {},
   "outputs": [],
   "source": [
    "fruits.add('Orange')"
   ]
  },
  {
   "cell_type": "code",
   "execution_count": 26,
   "id": "5278f3c2",
   "metadata": {},
   "outputs": [
    {
     "ename": "TypeError",
     "evalue": "set.add() takes exactly one argument (2 given)",
     "output_type": "error",
     "traceback": [
      "\u001b[1;31m---------------------------------------------------------------------------\u001b[0m",
      "\u001b[1;31mTypeError\u001b[0m                                 Traceback (most recent call last)",
      "\u001b[1;32m~\\AppData\\Local\\Temp\\ipykernel_2360\\857559287.py\u001b[0m in \u001b[0;36m<module>\u001b[1;34m\u001b[0m\n\u001b[1;32m----> 1\u001b[1;33m \u001b[0mfruits\u001b[0m\u001b[1;33m.\u001b[0m\u001b[0madd\u001b[0m\u001b[1;33m(\u001b[0m\u001b[1;34m'peach'\u001b[0m\u001b[1;33m,\u001b[0m \u001b[1;34m'mango'\u001b[0m\u001b[1;33m)\u001b[0m\u001b[1;33m\u001b[0m\u001b[1;33m\u001b[0m\u001b[0m\n\u001b[0m",
      "\u001b[1;31mTypeError\u001b[0m: set.add() takes exactly one argument (2 given)"
     ]
    }
   ],
   "source": [
    "fruits.add('peach', 'mango')"
   ]
  },
  {
   "cell_type": "code",
   "execution_count": 27,
   "id": "9e93e382",
   "metadata": {},
   "outputs": [],
   "source": [
    "fruits.update(('peach', 'mango'))"
   ]
  },
  {
   "cell_type": "code",
   "execution_count": 28,
   "id": "fc758862",
   "metadata": {},
   "outputs": [
    {
     "data": {
      "text/plain": [
       "{'Orange', 'mango', 'peach'}"
      ]
     },
     "execution_count": 28,
     "metadata": {},
     "output_type": "execute_result"
    }
   ],
   "source": [
    "fruits"
   ]
  },
  {
   "cell_type": "code",
   "execution_count": 30,
   "id": "3d38231d",
   "metadata": {},
   "outputs": [],
   "source": [
    "fruits.update(['banana', 'apple'])"
   ]
  },
  {
   "cell_type": "code",
   "execution_count": 33,
   "id": "7642ab80",
   "metadata": {},
   "outputs": [],
   "source": [
    "fruits.update({'mango', 'kiwi'})"
   ]
  },
  {
   "cell_type": "code",
   "execution_count": 34,
   "id": "f50a9437",
   "metadata": {},
   "outputs": [
    {
     "data": {
      "text/plain": [
       "{'Orange', 'apple', 'banana', 'kiwi', 'mango', 'peach'}"
      ]
     },
     "execution_count": 34,
     "metadata": {},
     "output_type": "execute_result"
    }
   ],
   "source": [
    "fruits"
   ]
  },
  {
   "cell_type": "code",
   "execution_count": 35,
   "id": "38541635",
   "metadata": {},
   "outputs": [],
   "source": [
    "sports = {'cricket'}"
   ]
  },
  {
   "cell_type": "code",
   "execution_count": 36,
   "id": "2d7d7d8e",
   "metadata": {},
   "outputs": [
    {
     "data": {
      "text/plain": [
       "set"
      ]
     },
     "execution_count": 36,
     "metadata": {},
     "output_type": "execute_result"
    }
   ],
   "source": [
    "type(sports)"
   ]
  },
  {
   "cell_type": "code",
   "execution_count": 37,
   "id": "2de9b4cd",
   "metadata": {},
   "outputs": [],
   "source": [
    "empty_set = set()"
   ]
  },
  {
   "cell_type": "code",
   "execution_count": 38,
   "id": "2d8d51d4",
   "metadata": {},
   "outputs": [
    {
     "data": {
      "text/plain": [
       "set()"
      ]
     },
     "execution_count": 38,
     "metadata": {},
     "output_type": "execute_result"
    }
   ],
   "source": [
    "empty_set"
   ]
  },
  {
   "cell_type": "code",
   "execution_count": 39,
   "id": "b3a9b6bc",
   "metadata": {},
   "outputs": [
    {
     "data": {
      "text/plain": [
       "0"
      ]
     },
     "execution_count": 39,
     "metadata": {},
     "output_type": "execute_result"
    }
   ],
   "source": [
    "len(empty_set)"
   ]
  },
  {
   "cell_type": "markdown",
   "id": "bd86dfeb",
   "metadata": {},
   "source": [
    "- Mutable:\n",
    "- list === [value1, value2]\n",
    "- dictionary === {key:value}\n",
    "- set ==== {value1, value2}\n",
    "- Immutable\n",
    "- tuple ==== (value1, value2)"
   ]
  },
  {
   "cell_type": "markdown",
   "id": "ec62135e",
   "metadata": {},
   "source": [
    "# Conditions"
   ]
  },
  {
   "cell_type": "code",
   "execution_count": 11,
   "id": "f6c5b580",
   "metadata": {},
   "outputs": [
    {
     "name": "stdout",
     "output_type": "stream",
     "text": [
      "Yes you are eligible for applying for cnic\n"
     ]
    }
   ],
   "source": [
    "age = float(input('Enter your age: '))\n",
    "years = 18 - age\n",
    "if age >= 18:\n",
    "    print('Yes you are eligible for applying for cnic')"
   ]
  },
  {
   "cell_type": "code",
   "execution_count": null,
   "id": "0a4fb959",
   "metadata": {},
   "outputs": [
    {
     "name": "stdout",
     "output_type": "stream",
     "text": [
      "Yes you are eligible for applying for cnic\n"
     ]
    }
   ],
   "source": [
    "age = float(input('Enter your age: '))\n",
    "years = 18 - age\n",
    "if age >= 18:\n",
    "    print('Yes you are eligible for applying for cnic')\n",
    "else:\n",
    "    print(f'No, wait for {years} years')"
   ]
  },
  {
   "cell_type": "code",
   "execution_count": 15,
   "id": "6eb54029",
   "metadata": {},
   "outputs": [
    {
     "name": "stdout",
     "output_type": "stream",
     "text": [
      "No, You are not eligible\n"
     ]
    }
   ],
   "source": [
    "age = float(input('Enter your age: '))\n",
    "nationality = input('Enter your nationality: ').title()\n",
    "if age >= 18 and nationality == 'Pakistan':\n",
    "    print('Yes you are eligible for applying for cnic')\n",
    "else:\n",
    "    print(f'No, You are not eligible')"
   ]
  },
  {
   "cell_type": "code",
   "execution_count": 31,
   "id": "fd773e8b",
   "metadata": {},
   "outputs": [
    {
     "name": "stdout",
     "output_type": "stream",
     "text": [
      "Yes you are eligible for applying for cnic\n"
     ]
    }
   ],
   "source": [
    "age = float(input('Enter your age: '))\n",
    "nationality = input('Enter your nationality: ').title()\n",
    "if all((age >= 18 ,nationality == 'Pakistan')):\n",
    "    print('Yes you are eligible for applying for cnic')\n",
    "else:\n",
    "    print(f'No, You are not eligible')"
   ]
  },
  {
   "cell_type": "code",
   "execution_count": 18,
   "id": "68ca2e42",
   "metadata": {},
   "outputs": [
    {
     "name": "stdout",
     "output_type": "stream",
     "text": [
      "Change your payment method\n"
     ]
    }
   ],
   "source": [
    "payment_method = input('Enter payment method').title()\n",
    "if payment_method == 'Easy Paisa' or payment_method == 'Cash':\n",
    "    print('Your order has been placed succefully')\n",
    "else:\n",
    "    print('Change your payment method')\n"
   ]
  },
  {
   "cell_type": "code",
   "execution_count": 21,
   "id": "8dd95014",
   "metadata": {},
   "outputs": [],
   "source": [
    "cities = ('karachi', 'lahore')"
   ]
  },
  {
   "cell_type": "code",
   "execution_count": 22,
   "id": "1d23cfb5",
   "metadata": {},
   "outputs": [
    {
     "data": {
      "text/plain": [
       "True"
      ]
     },
     "execution_count": 22,
     "metadata": {},
     "output_type": "execute_result"
    }
   ],
   "source": [
    "'karachi' in cities"
   ]
  },
  {
   "cell_type": "code",
   "execution_count": 26,
   "id": "1a3b6420",
   "metadata": {},
   "outputs": [
    {
     "name": "stdout",
     "output_type": "stream",
     "text": [
      "Your order has been placed succefully\n"
     ]
    }
   ],
   "source": [
    "payment_method = input('Enter payment method').title()\n",
    "if payment_method in ('Cash', 'Easy Paisa', 'Bank'):\n",
    "    print('Your order has been placed succefully')\n",
    "else:\n",
    "    print('Change your payment method')\n"
   ]
  },
  {
   "cell_type": "code",
   "execution_count": 32,
   "id": "cb906939",
   "metadata": {},
   "outputs": [],
   "source": [
    "# all((True, True) )"
   ]
  },
  {
   "cell_type": "code",
   "execution_count": null,
   "id": "92cf1b51",
   "metadata": {},
   "outputs": [],
   "source": []
  },
  {
   "cell_type": "code",
   "execution_count": 38,
   "id": "8aaba65d",
   "metadata": {},
   "outputs": [
    {
     "name": "stdout",
     "output_type": "stream",
     "text": [
      "No you can not\n"
     ]
    }
   ],
   "source": [
    "payment_method = input('Enter payment method').title()\n",
    "address = input('Enter You address')\n",
    "if payment_method in ('Cash', 'Easy Paisa', 'Bank') and address:\n",
    "    print('Your order has been placed succefully')\n",
    "else:\n",
    "    print('No you can not')\n"
   ]
  },
  {
   "cell_type": "code",
   "execution_count": 34,
   "id": "1d95491e",
   "metadata": {},
   "outputs": [
    {
     "data": {
      "text/plain": [
       "True"
      ]
     },
     "execution_count": 34,
     "metadata": {},
     "output_type": "execute_result"
    }
   ],
   "source": [
    "address = '1'\n",
    "bool(address)"
   ]
  }
 ],
 "metadata": {
  "kernelspec": {
   "display_name": "base",
   "language": "python",
   "name": "python3"
  },
  "language_info": {
   "codemirror_mode": {
    "name": "ipython",
    "version": 3
   },
   "file_extension": ".py",
   "mimetype": "text/x-python",
   "name": "python",
   "nbconvert_exporter": "python",
   "pygments_lexer": "ipython3",
   "version": "3.9.13"
  }
 },
 "nbformat": 4,
 "nbformat_minor": 5
}
