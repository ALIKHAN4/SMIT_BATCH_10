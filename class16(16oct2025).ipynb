{
 "cells": [
  {
   "cell_type": "code",
   "execution_count": null,
   "id": "4343418b",
   "metadata": {},
   "outputs": [],
   "source": [
    "flag = True\n",
    "# while condition\n",
    "while flag:\n",
    "    country = input('Enter your country name: ').lower()\n",
    "    country = country[:8]\n",
    "    if country == 'pakistan':\n",
    "        print('You are eligible for cnic')\n",
    "        flag = False\n",
    "    else:\n",
    "        print(f'This country {country} is not eligible')"
   ]
  },
  {
   "cell_type": "markdown",
   "id": "4dfa7cd5",
   "metadata": {},
   "source": [
    "# Functions"
   ]
  },
  {
   "cell_type": "markdown",
   "id": "2c22b873",
   "metadata": {},
   "source": [
    "A piece of code that can be reused (whenever we want)"
   ]
  },
  {
   "cell_type": "code",
   "execution_count": null,
   "id": "602070e0",
   "metadata": {},
   "outputs": [],
   "source": [
    "print()"
   ]
  },
  {
   "cell_type": "code",
   "execution_count": null,
   "id": "19f7bfc2",
   "metadata": {},
   "outputs": [],
   "source": [
    "def apnafunction():\n",
    "    flag = True\n",
    "    # while condition\n",
    "    while flag:\n",
    "        country = input('Enter your country name: ').lower()\n",
    "        if country[:8] == 'pakistan':\n",
    "            print('You are eligible for cnic')\n",
    "            flag = False\n",
    "        else:\n",
    "            print(f'This country {country} is not eligible')"
   ]
  },
  {
   "cell_type": "code",
   "execution_count": null,
   "id": "a685ab08",
   "metadata": {},
   "outputs": [],
   "source": [
    "apnafunction()"
   ]
  },
  {
   "cell_type": "markdown",
   "id": "ffc308a5",
   "metadata": {},
   "source": [
    "Case 1"
   ]
  },
  {
   "cell_type": "code",
   "execution_count": null,
   "id": "870d91c0",
   "metadata": {},
   "outputs": [],
   "source": [
    "# print those city/cities having all characters unique (not repetitive)\n",
    "cities = ['Karachi', 'Lahore', 'Quetta', 'Dadu', 'Murre']\n"
   ]
  },
  {
   "cell_type": "code",
   "execution_count": null,
   "id": "086defc9",
   "metadata": {},
   "outputs": [],
   "source": [
    "def get_unique_char_city():\n",
    "    for city in cities:\n",
    "        charcount = True\n",
    "        for char in city:\n",
    "            if city.lower().count(char) > 1:\n",
    "                charcount = False\n",
    "                break\n",
    "        # if charcount == True:\n",
    "        if charcount:\n",
    "            print(city)\n",
    "\n"
   ]
  },
  {
   "cell_type": "code",
   "execution_count": null,
   "id": "7766564b",
   "metadata": {},
   "outputs": [],
   "source": [
    "get_unique_char_city()\n"
   ]
  },
  {
   "cell_type": "markdown",
   "id": "a1700be3",
   "metadata": {},
   "source": [
    "Case 2"
   ]
  },
  {
   "cell_type": "code",
   "execution_count": 8,
   "id": "533fcdf1",
   "metadata": {},
   "outputs": [],
   "source": [
    "def get_cities():\n",
    "    cities = ['Karachi', 'Lahore', 'Quetta', 'Dadu', 'Murre']\n",
    "    return cities \n"
   ]
  },
  {
   "cell_type": "code",
   "execution_count": 9,
   "id": "d91a2bbf",
   "metadata": {},
   "outputs": [],
   "source": [
    "variable = get_cities()"
   ]
  },
  {
   "cell_type": "code",
   "execution_count": 10,
   "id": "245e8ca0",
   "metadata": {},
   "outputs": [
    {
     "data": {
      "text/plain": [
       "['Karachi', 'Lahore', 'Quetta', 'Dadu', 'Murre']"
      ]
     },
     "execution_count": 10,
     "metadata": {},
     "output_type": "execute_result"
    }
   ],
   "source": [
    "variable"
   ]
  },
  {
   "cell_type": "code",
   "execution_count": null,
   "id": "d30fd483",
   "metadata": {},
   "outputs": [],
   "source": [
    "cities = get_cities()\n"
   ]
  },
  {
   "cell_type": "code",
   "execution_count": null,
   "id": "ec0ff31b",
   "metadata": {},
   "outputs": [],
   "source": [
    "print(cities)"
   ]
  },
  {
   "cell_type": "code",
   "execution_count": 11,
   "id": "d3a8c46f",
   "metadata": {},
   "outputs": [
    {
     "ename": "NameError",
     "evalue": "name 'cities' is not defined",
     "output_type": "error",
     "traceback": [
      "\u001b[1;31m---------------------------------------------------------------------------\u001b[0m",
      "\u001b[1;31mNameError\u001b[0m                                 Traceback (most recent call last)",
      "\u001b[1;32m~\\AppData\\Local\\Temp\\ipykernel_11740\\784809758.py\u001b[0m in \u001b[0;36m<module>\u001b[1;34m\u001b[0m\n\u001b[1;32m----> 1\u001b[1;33m \u001b[0mprint\u001b[0m\u001b[1;33m(\u001b[0m\u001b[0mcities\u001b[0m\u001b[1;33m)\u001b[0m\u001b[1;33m\u001b[0m\u001b[1;33m\u001b[0m\u001b[0m\n\u001b[0m",
      "\u001b[1;31mNameError\u001b[0m: name 'cities' is not defined"
     ]
    }
   ],
   "source": [
    "print(cities)"
   ]
  },
  {
   "cell_type": "code",
   "execution_count": 19,
   "id": "41023bda",
   "metadata": {},
   "outputs": [],
   "source": [
    "def get_unique_char_city(cities_paramter):\n",
    "    for city in cities_paramter:\n",
    "        charcount = True\n",
    "        for char in city:\n",
    "            if city.lower().count(char) > 1:\n",
    "                charcount = False\n",
    "                break\n",
    "        # if charcount == True:\n",
    "        if charcount:\n",
    "            print(city)\n",
    "\n"
   ]
  },
  {
   "cell_type": "code",
   "execution_count": 20,
   "id": "e2b4964f",
   "metadata": {},
   "outputs": [],
   "source": [
    "variable = get_cities()"
   ]
  },
  {
   "cell_type": "code",
   "execution_count": 21,
   "id": "e83f3f5e",
   "metadata": {},
   "outputs": [
    {
     "data": {
      "text/plain": [
       "['Karachi', 'Lahore', 'Quetta', 'Dadu', 'Murre']"
      ]
     },
     "execution_count": 21,
     "metadata": {},
     "output_type": "execute_result"
    }
   ],
   "source": [
    "variable"
   ]
  },
  {
   "cell_type": "code",
   "execution_count": null,
   "id": "229041e6",
   "metadata": {},
   "outputs": [
    {
     "name": "stdout",
     "output_type": "stream",
     "text": [
      "Lahore\n"
     ]
    }
   ],
   "source": [
    "get_unique_char_city(variable)"
   ]
  },
  {
   "cell_type": "code",
   "execution_count": 26,
   "id": "8f88b345",
   "metadata": {},
   "outputs": [],
   "source": [
    "# def add(parameter1, parameter2) ---> When creating functions\n",
    "def add(a, b):\n",
    "    return a + b"
   ]
  },
  {
   "cell_type": "code",
   "execution_count": 47,
   "id": "56704f94",
   "metadata": {},
   "outputs": [
    {
     "data": {
      "text/plain": [
       "7"
      ]
     },
     "execution_count": 47,
     "metadata": {},
     "output_type": "execute_result"
    }
   ],
   "source": [
    "# add(argument1, argument2) ---> when calling / using function\n",
    "#  positional argument\n",
    "add(3,4)"
   ]
  },
  {
   "cell_type": "code",
   "execution_count": 29,
   "id": "8a215c50",
   "metadata": {},
   "outputs": [],
   "source": [
    "# Write a functions which takes a list of numbers and returns two list\n",
    "# one is even_no and other one is odd_no:\n",
    "\n",
    "# input: [1,2,3,4,5,6,7,8,9,10]\n",
    "# ouput: \n",
    "#     [2,4,6,8,10]\n",
    "#     [1,3,5,7,9]"
   ]
  },
  {
   "cell_type": "code",
   "execution_count": 45,
   "id": "61fc4e52",
   "metadata": {},
   "outputs": [],
   "source": [
    "def get_even_odd(numbers):\n",
    "    even = []\n",
    "    odd = []\n",
    "    for num in numbers:\n",
    "        if num % 2 == 0:\n",
    "            even.append(num)\n",
    "        else:\n",
    "            odd.append(num)\n",
    "    print(even, odd, sep='\\n')"
   ]
  },
  {
   "cell_type": "code",
   "execution_count": 46,
   "id": "b407e6b3",
   "metadata": {},
   "outputs": [
    {
     "name": "stdout",
     "output_type": "stream",
     "text": [
      "[20, 22, 24]\n",
      "[21, 23]\n"
     ]
    }
   ],
   "source": [
    "get_even_odd([20,21,22,23,24])"
   ]
  },
  {
   "cell_type": "code",
   "execution_count": null,
   "id": "67a3c2c7",
   "metadata": {},
   "outputs": [],
   "source": []
  }
 ],
 "metadata": {
  "kernelspec": {
   "display_name": "base",
   "language": "python",
   "name": "python3"
  },
  "language_info": {
   "codemirror_mode": {
    "name": "ipython",
    "version": 3
   },
   "file_extension": ".py",
   "mimetype": "text/x-python",
   "name": "python",
   "nbconvert_exporter": "python",
   "pygments_lexer": "ipython3",
   "version": "3.9.13"
  }
 },
 "nbformat": 4,
 "nbformat_minor": 5
}
