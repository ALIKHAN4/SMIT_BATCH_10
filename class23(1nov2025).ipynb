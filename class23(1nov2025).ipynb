{
 "cells": [
  {
   "cell_type": "code",
   "execution_count": 63,
   "id": "03c34d8f",
   "metadata": {},
   "outputs": [],
   "source": [
    "def calculator(op, a, b):\n",
    "    return eval(f'a {op} b')"
   ]
  },
  {
   "cell_type": "code",
   "execution_count": 64,
   "id": "735c2cad",
   "metadata": {},
   "outputs": [
    {
     "data": {
      "text/plain": [
       "0"
      ]
     },
     "execution_count": 64,
     "metadata": {},
     "output_type": "execute_result"
    }
   ],
   "source": [
    "calculator('-',3,3)"
   ]
  },
  {
   "cell_type": "code",
   "execution_count": 65,
   "id": "ef1d1f04",
   "metadata": {},
   "outputs": [
    {
     "data": {
      "text/plain": [
       "5"
      ]
     },
     "execution_count": 65,
     "metadata": {},
     "output_type": "execute_result"
    }
   ],
   "source": [
    "a = 3\n",
    "eval('2 + a')"
   ]
  },
  {
   "cell_type": "code",
   "execution_count": 66,
   "id": "06242292",
   "metadata": {},
   "outputs": [],
   "source": [
    "def calculator(op, a, b):\n",
    "    try:\n",
    "        return eval(f'a {op} b')\n",
    "    except Exception as e:\n",
    "        print(e)"
   ]
  },
  {
   "cell_type": "code",
   "execution_count": 67,
   "id": "18447061",
   "metadata": {},
   "outputs": [
    {
     "name": "stdout",
     "output_type": "stream",
     "text": [
      "unsupported operand type(s) for +: 'int' and 'str'\n"
     ]
    }
   ],
   "source": [
    "calculator('+', 2,'a')"
   ]
  },
  {
   "cell_type": "code",
   "execution_count": null,
   "id": "5347cb35",
   "metadata": {},
   "outputs": [],
   "source": [
    "def calculator(op, a, b):\n",
    "    try:\n",
    "        print(eval(f'a {op} b'))\n",
    "    except (ZeroDivisionError, TypeError) as e:\n",
    "        print(e)\n",
    "    else:\n",
    "        print('Try run, no exception') \n",
    "    finally:\n",
    "        print('ye lazmi chalega')"
   ]
  },
  {
   "cell_type": "code",
   "execution_count": 81,
   "id": "5d829e85",
   "metadata": {},
   "outputs": [
    {
     "name": "stdout",
     "output_type": "stream",
     "text": [
      "division by zero\n",
      "ye lazmi chalega\n"
     ]
    }
   ],
   "source": [
    "calculator('/', 2,0)"
   ]
  },
  {
   "cell_type": "code",
   "execution_count": 75,
   "id": "aad2c5a4",
   "metadata": {},
   "outputs": [
    {
     "name": "stdout",
     "output_type": "stream",
     "text": [
      "can only concatenate str (not \"int\") to str\n",
      "ye lazmi chalega\n"
     ]
    }
   ],
   "source": [
    "calculator('+', 'a',3)"
   ]
  },
  {
   "cell_type": "markdown",
   "id": "28ace37e",
   "metadata": {},
   "source": [
    "https://www.datacamp.com/tutorial/python-try-except"
   ]
  },
  {
   "cell_type": "code",
   "execution_count": 82,
   "id": "4bdbdf65",
   "metadata": {},
   "outputs": [
    {
     "name": "stdout",
     "output_type": "stream",
     "text": [
      "2\n"
     ]
    }
   ],
   "source": [
    "def foo():\n",
    "    try:\n",
    "        return 1\n",
    "    finally:\n",
    "        return 2\n",
    "k = foo()\n",
    "print(k)"
   ]
  },
  {
   "cell_type": "markdown",
   "id": "1cc08313",
   "metadata": {},
   "source": [
    "- Explanation: In Python, if both the try block and the finally block contain return statements, the return in the finally block overrides the one in the try block. So, even though return 1 is in the try, the function ends up returning 2 because of the finally block.\n"
   ]
  },
  {
   "cell_type": "code",
   "execution_count": null,
   "id": "7aaa4c9e",
   "metadata": {},
   "outputs": [
    {
     "name": "stdout",
     "output_type": "stream",
     "text": [
      "1\n",
      "2\n"
     ]
    }
   ],
   "source": [
    "def foo():\n",
    "    try:\n",
    "        print(1)\n",
    "    finally:\n",
    "        print(2)\n",
    "foo()"
   ]
  },
  {
   "cell_type": "code",
   "execution_count": 89,
   "id": "121fe8ff",
   "metadata": {},
   "outputs": [
    {
     "ename": "ZeroDivisionError",
     "evalue": "",
     "output_type": "error",
     "traceback": [
      "\u001b[1;31m---------------------------------------------------------------------------\u001b[0m",
      "\u001b[1;31mZeroDivisionError\u001b[0m                         Traceback (most recent call last)",
      "\u001b[1;32m~\\AppData\\Local\\Temp\\ipykernel_12368\\358704005.py\u001b[0m in \u001b[0;36m<module>\u001b[1;34m\u001b[0m\n\u001b[1;32m----> 1\u001b[1;33m \u001b[1;32mraise\u001b[0m \u001b[0mZeroDivisionError\u001b[0m\u001b[1;33m\u001b[0m\u001b[1;33m\u001b[0m\u001b[0m\n\u001b[0m",
      "\u001b[1;31mZeroDivisionError\u001b[0m: "
     ]
    }
   ],
   "source": [
    "raise ZeroDivisionError"
   ]
  },
  {
   "cell_type": "markdown",
   "id": "3c11ab6c",
   "metadata": {},
   "source": [
    "- Explanation: In Python, exceptions must be derived from the built-in BaseException class (usually subclasses of Exception). You cannot raise a string like “someError”. Also, the except clause expects an exception type, not a string. This code will raise a TypeError at runtime, making it invalid."
   ]
  },
  {
   "cell_type": "code",
   "execution_count": 91,
   "id": "90dc0178",
   "metadata": {},
   "outputs": [
    {
     "data": {
      "text/plain": [
       "False"
      ]
     },
     "execution_count": 91,
     "metadata": {},
     "output_type": "execute_result"
    }
   ],
   "source": [
    "'1' == 1"
   ]
  },
  {
   "cell_type": "markdown",
   "id": "1aa7e34f",
   "metadata": {},
   "source": []
  }
 ],
 "metadata": {
  "kernelspec": {
   "display_name": "base",
   "language": "python",
   "name": "python3"
  },
  "language_info": {
   "codemirror_mode": {
    "name": "ipython",
    "version": 3
   },
   "file_extension": ".py",
   "mimetype": "text/x-python",
   "name": "python",
   "nbconvert_exporter": "python",
   "pygments_lexer": "ipython3",
   "version": "3.9.13"
  }
 },
 "nbformat": 4,
 "nbformat_minor": 5
}
