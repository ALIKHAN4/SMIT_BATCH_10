{
 "cells": [
  {
   "cell_type": "markdown",
   "id": "fd0091d7",
   "metadata": {},
   "source": [
    "# Multiple Conditional statements"
   ]
  },
  {
   "cell_type": "code",
   "execution_count": 2,
   "id": "f4979d3d",
   "metadata": {},
   "outputs": [
    {
     "name": "stdout",
     "output_type": "stream",
     "text": [
      "Your order has been placed succefully\n"
     ]
    }
   ],
   "source": [
    "payment_method = input('Enter payment method').title()\n",
    "address = input('Enter You address')\n",
    "if payment_method in ('Cash', 'Easy Paisa', 'Bank') and address:\n",
    "    print('Your order has been placed succefully')\n",
    "else:\n",
    "    print('No you can not')\n"
   ]
  },
  {
   "cell_type": "markdown",
   "id": "7eed7cce",
   "metadata": {},
   "source": [
    "- 80 >= A1\n",
    "- 70 <= marks < 80 -----A\n",
    "- 60 < marks < 70 -----B"
   ]
  },
  {
   "cell_type": "code",
   "execution_count": null,
   "id": "21f55740",
   "metadata": {},
   "outputs": [],
   "source": [
    "69 70"
   ]
  },
  {
   "cell_type": "code",
   "execution_count": 33,
   "id": "8268d001",
   "metadata": {},
   "outputs": [
    {
     "name": "stdout",
     "output_type": "stream",
     "text": [
      "Invalid marks i.e. -1.0\n"
     ]
    }
   ],
   "source": [
    "marks = float(input('Enter student marks: '))\n",
    "if marks > 100 or marks < 0:\n",
    "    result = f\"Invalid marks i.e. {marks}\"\n",
    "elif 80 <= marks <= 100:\n",
    "    result = 'A1'\n",
    "elif 70 <= marks < 80:\n",
    "    result = 'A'\n",
    "elif 60 <= marks < 70:\n",
    "    result = 'B'\n",
    "elif 50 <= marks < 60:\n",
    "    result = 'C'\n",
    "elif 40 <= marks < 50:\n",
    "    result = 'D'\n",
    "else:\n",
    "    result = 'Better Luck Next Time'\n",
    "\n",
    "\n",
    "print(result)"
   ]
  },
  {
   "cell_type": "markdown",
   "id": "bf7107ab",
   "metadata": {},
   "source": [
    "- present\n",
    "- marks <= 100\n",
    "- marks should be +ve"
   ]
  },
  {
   "cell_type": "markdown",
   "id": "5749a5c1",
   "metadata": {},
   "source": [
    "# Nested Conditions"
   ]
  },
  {
   "cell_type": "code",
   "execution_count": null,
   "id": "d7cb2062",
   "metadata": {},
   "outputs": [],
   "source": [
    "attendance = input('Enter attendence: Either Present or Absent').title()\n",
    "marks = float(input('Enter obtained marks'))\n",
    "\n",
    "if attendance == 'Present':\n",
    "    if marks <= 100:\n",
    "        if marks > 0:\n",
    "            pass\n",
    "        else:\n",
    "            print('Negative Marks, invalid')\n",
    "    else:\n",
    "        print('Marks are greater than 100, invalid marks')\n",
    "else:\n",
    "    print('Student was not present')\n"
   ]
  },
  {
   "cell_type": "code",
   "execution_count": null,
   "id": "82abe8a7",
   "metadata": {},
   "outputs": [],
   "source": [
    "suzuki, 150, 2025, black, "
   ]
  },
  {
   "cell_type": "code",
   "execution_count": null,
   "id": "8a649d81",
   "metadata": {},
   "outputs": [
    {
     "name": "stdout",
     "output_type": "stream",
     "text": [
      "Yes, pack krdo bhai\n"
     ]
    }
   ],
   "source": [
    "company = input('Enter desired company').title()\n",
    "if company == 'Suzuki':\n",
    "    engine_capacity = int(input('Enter engine capacity (in cc)'))\n",
    "\n",
    "    if engine_capacity == 150:\n",
    "        year = int(input('Enter year'))\n",
    "\n",
    "        # if (year == 2023) or (year == 2024) or (year == 2025):\n",
    "        if year in (2024, 2025, 2023):\n",
    "            color = input('Enter desired color').title()\n",
    "\n",
    "            if color == 'Black':\n",
    "                print('Yes, pack krdo bhai')\n",
    "            else:\n",
    "                print('Sorry we are not interested')\n",
    "        else:\n",
    "            print('Not desired year')\n",
    "    else:\n",
    "        print('Engine capacity is not 150')\n",
    "else:\n",
    "    print('company is not suzuki')"
   ]
  }
 ],
 "metadata": {
  "kernelspec": {
   "display_name": "base",
   "language": "python",
   "name": "python3"
  },
  "language_info": {
   "codemirror_mode": {
    "name": "ipython",
    "version": 3
   },
   "file_extension": ".py",
   "mimetype": "text/x-python",
   "name": "python",
   "nbconvert_exporter": "python",
   "pygments_lexer": "ipython3",
   "version": "3.9.13"
  }
 },
 "nbformat": 4,
 "nbformat_minor": 5
}
