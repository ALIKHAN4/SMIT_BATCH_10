{
 "cells": [
  {
   "cell_type": "markdown",
   "id": "f8e72cc5",
   "metadata": {},
   "source": [
    "# Loops"
   ]
  },
  {
   "cell_type": "code",
   "execution_count": null,
   "id": "073b9112",
   "metadata": {},
   "outputs": [],
   "source": [
    "print('hello')\n",
    "print('hello')\n",
    "print('hello')\n",
    "print('hello')\n",
    "print('hello')\n",
    "print('hello')\n",
    "print('hello')\n",
    "print('hello')\n",
    "print('hello')\n",
    "print('hello')"
   ]
  },
  {
   "cell_type": "markdown",
   "id": "7dc03435",
   "metadata": {},
   "source": [
    "- for\n",
    "- while"
   ]
  },
  {
   "cell_type": "code",
   "execution_count": null,
   "id": "6772ea87",
   "metadata": {},
   "outputs": [],
   "source": [
    "range(10)"
   ]
  },
  {
   "cell_type": "code",
   "execution_count": null,
   "id": "496b3755",
   "metadata": {},
   "outputs": [],
   "source": [
    "# Iterable = Anything which can be looped over\n",
    "# for i in iterable:\n",
    "for i in range(1,11):\n",
    "    print(f'{i}- hello')\n",
    "\n",
    "# 1- hello\n",
    "# 2- hello\n"
   ]
  },
  {
   "cell_type": "code",
   "execution_count": 13,
   "id": "c129b978",
   "metadata": {},
   "outputs": [
    {
     "name": "stdout",
     "output_type": "stream",
     "text": [
      "2\n",
      "4\n",
      "6\n",
      "8\n",
      "10\n",
      "12\n",
      "14\n",
      "16\n",
      "18\n",
      "20\n"
     ]
    }
   ],
   "source": [
    "# 1 to 20 \n",
    "for num in range(2, 21, 2):\n",
    "    print(num)\n"
   ]
  },
  {
   "cell_type": "code",
   "execution_count": 17,
   "id": "3631b12c",
   "metadata": {},
   "outputs": [
    {
     "name": "stdout",
     "output_type": "stream",
     "text": [
      "Quetta\n",
      "Lahore\n",
      "Rawalpindi\n",
      "Multan\n"
     ]
    }
   ],
   "source": [
    "# Print those cities having legth in even number\n",
    "# e.g output: Multan, Lahore\n",
    "cities = ['Karachi', 'Quetta', 'Lahore', 'Rawalpindi', 'Multan']\n",
    "for city in cities:\n",
    "    if len(city) % 2 == 0:\n",
    "        print(city)"
   ]
  },
  {
   "cell_type": "markdown",
   "id": "f976e62d",
   "metadata": {},
   "source": [
    "https://pythontutor.com/render.html#mode=display"
   ]
  },
  {
   "cell_type": "code",
   "execution_count": 18,
   "id": "595b8e4d",
   "metadata": {},
   "outputs": [
    {
     "name": "stdout",
     "output_type": "stream",
     "text": [
      "Multan\n"
     ]
    }
   ],
   "source": [
    "print(city)"
   ]
  },
  {
   "cell_type": "code",
   "execution_count": 19,
   "id": "07e79e4e",
   "metadata": {},
   "outputs": [
    {
     "name": "stdout",
     "output_type": "stream",
     "text": [
      "Karachi\n",
      "Rawalpindi\n"
     ]
    }
   ],
   "source": [
    "# Print those cities having more 2 'a' in city\n",
    "# e.g output: Multan, Lahore\n",
    "cities = ['Karachi', 'Quetta', 'Lahore', 'Rawalpindi', 'Multan']\n",
    "for city in cities:\n",
    "    if city.count('a') == 2:\n",
    "        print(city)\n"
   ]
  },
  {
   "cell_type": "code",
   "execution_count": 25,
   "id": "352de1c7",
   "metadata": {},
   "outputs": [
    {
     "name": "stdout",
     "output_type": "stream",
     "text": [
      "Quetta\n",
      "Lahore\n",
      "Multan\n"
     ]
    }
   ],
   "source": [
    "# cities = ['Karachi', 'Quetta', 'Lahore', 'Rawalpindi', 'Multan']\n",
    "\n",
    "for sufyan in cities:\n",
    "    # if 0 < len(sufyan) <= 6:\n",
    "    if len(sufyan) <= 6:\n",
    "        print(sufyan)"
   ]
  },
  {
   "cell_type": "code",
   "execution_count": 28,
   "id": "4e5bc1b5",
   "metadata": {},
   "outputs": [
    {
     "name": "stdout",
     "output_type": "stream",
     "text": [
      "16\n"
     ]
    }
   ],
   "source": [
    "# [ 6, 2, 1, 8, 10 ] => 16\n",
    "nums = [ 6, 2, 1, 8, 10 ]\n",
    "nums.remove(max(nums))\n",
    "nums.remove(min(nums))\n",
    "print(sum(nums))\n",
    "\n"
   ]
  },
  {
   "cell_type": "code",
   "execution_count": 30,
   "id": "e113357c",
   "metadata": {},
   "outputs": [
    {
     "name": "stdout",
     "output_type": "stream",
     "text": [
      "6\n"
     ]
    }
   ],
   "source": [
    "nums = [1, 1, 11, 2, 3]\n",
    "nums.remove(max(nums))\n",
    "nums.remove(min(nums))\n",
    "print(sum(nums))"
   ]
  },
  {
   "cell_type": "code",
   "execution_count": 31,
   "id": "76fa1d46",
   "metadata": {},
   "outputs": [
    {
     "ename": "ValueError",
     "evalue": "max() arg is an empty sequence",
     "output_type": "error",
     "traceback": [
      "\u001b[1;31m---------------------------------------------------------------------------\u001b[0m",
      "\u001b[1;31mValueError\u001b[0m                                Traceback (most recent call last)",
      "\u001b[1;32m~\\AppData\\Local\\Temp\\ipykernel_3160\\2145327628.py\u001b[0m in \u001b[0;36m<module>\u001b[1;34m\u001b[0m\n\u001b[0;32m      1\u001b[0m \u001b[0mnums\u001b[0m \u001b[1;33m=\u001b[0m \u001b[1;33m[\u001b[0m\u001b[1;33m]\u001b[0m\u001b[1;33m\u001b[0m\u001b[1;33m\u001b[0m\u001b[0m\n\u001b[1;32m----> 2\u001b[1;33m \u001b[0mnums\u001b[0m\u001b[1;33m.\u001b[0m\u001b[0mremove\u001b[0m\u001b[1;33m(\u001b[0m\u001b[0mmax\u001b[0m\u001b[1;33m(\u001b[0m\u001b[0mnums\u001b[0m\u001b[1;33m)\u001b[0m\u001b[1;33m)\u001b[0m\u001b[1;33m\u001b[0m\u001b[1;33m\u001b[0m\u001b[0m\n\u001b[0m\u001b[0;32m      3\u001b[0m \u001b[0mnums\u001b[0m\u001b[1;33m.\u001b[0m\u001b[0mremove\u001b[0m\u001b[1;33m(\u001b[0m\u001b[0mmin\u001b[0m\u001b[1;33m(\u001b[0m\u001b[0mnums\u001b[0m\u001b[1;33m)\u001b[0m\u001b[1;33m)\u001b[0m\u001b[1;33m\u001b[0m\u001b[1;33m\u001b[0m\u001b[0m\n\u001b[0;32m      4\u001b[0m \u001b[0mprint\u001b[0m\u001b[1;33m(\u001b[0m\u001b[0msum\u001b[0m\u001b[1;33m(\u001b[0m\u001b[0mnums\u001b[0m\u001b[1;33m)\u001b[0m\u001b[1;33m)\u001b[0m\u001b[1;33m\u001b[0m\u001b[1;33m\u001b[0m\u001b[0m\n",
      "\u001b[1;31mValueError\u001b[0m: max() arg is an empty sequence"
     ]
    }
   ],
   "source": [
    "nums = []\n",
    "nums.remove(max(nums))\n",
    "nums.remove(min(nums))\n",
    "print(sum(nums))"
   ]
  },
  {
   "cell_type": "code",
   "execution_count": 40,
   "id": "127f95c3",
   "metadata": {},
   "outputs": [
    {
     "data": {
      "text/plain": [
       "[2, 6, 8]"
      ]
     },
     "execution_count": 40,
     "metadata": {},
     "output_type": "execute_result"
    }
   ],
   "source": [
    "nums.sort()\n",
    "nums[1:-1]"
   ]
  },
  {
   "cell_type": "code",
   "execution_count": 53,
   "id": "80393cb5",
   "metadata": {},
   "outputs": [
    {
     "name": "stdout",
     "output_type": "stream",
     "text": [
      "3\n"
     ]
    }
   ],
   "source": [
    "# nums = [ 6, 2, 1, 8, 10 ]\n",
    "nums = [1,3,12]\n",
    "if nums:\n",
    "    nums.sort()\n",
    "    result = sum(nums[1:-1])\n",
    "    print(result)\n",
    "else:\n",
    "    print(0)"
   ]
  },
  {
   "cell_type": "markdown",
   "id": "c2b2d5c7",
   "metadata": {},
   "source": [
    "https://www.codewars.com/kata/576b93db1129fcf2200001e6/train/python"
   ]
  }
 ],
 "metadata": {
  "kernelspec": {
   "display_name": "base",
   "language": "python",
   "name": "python3"
  },
  "language_info": {
   "codemirror_mode": {
    "name": "ipython",
    "version": 3
   },
   "file_extension": ".py",
   "mimetype": "text/x-python",
   "name": "python",
   "nbconvert_exporter": "python",
   "pygments_lexer": "ipython3",
   "version": "3.9.13"
  }
 },
 "nbformat": 4,
 "nbformat_minor": 5
}
