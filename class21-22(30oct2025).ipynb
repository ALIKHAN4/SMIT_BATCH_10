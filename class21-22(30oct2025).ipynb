{
 "cells": [
  {
   "cell_type": "code",
   "execution_count": null,
   "id": "63d3e7b0",
   "metadata": {},
   "outputs": [],
   "source": [
    "# 21th class / 28thoct /absent"
   ]
  },
  {
   "cell_type": "code",
   "execution_count": null,
   "id": "32e2f4d2",
   "metadata": {},
   "outputs": [],
   "source": [
    "def divide(a ,b):\n",
    "    return a/b"
   ]
  },
  {
   "cell_type": "code",
   "execution_count": null,
   "id": "41f6a250",
   "metadata": {},
   "outputs": [],
   "source": [
    "divide(10, 5)"
   ]
  },
  {
   "cell_type": "code",
   "execution_count": null,
   "id": "2cbd85a4",
   "metadata": {},
   "outputs": [],
   "source": [
    "def divide(a ,b):\n",
    "    retunr a/b"
   ]
  },
  {
   "cell_type": "code",
   "execution_count": null,
   "id": "ff18f357",
   "metadata": {},
   "outputs": [],
   "source": [
    "def divide(a ,b):\n",
    "    return a/b"
   ]
  },
  {
   "cell_type": "code",
   "execution_count": null,
   "id": "3b19ec7d",
   "metadata": {},
   "outputs": [],
   "source": [
    "divide(10,0)"
   ]
  },
  {
   "cell_type": "markdown",
   "id": "219ff514",
   "metadata": {},
   "source": [
    "- Syntax Errors: These errors occur when the Python interpreter encounters code that violates the language's grammatical rules. They are detected during the parsing phase, before the program even begins execution. Examples include missing colons, incorrect indentation, or misspelled keywords.\n",
    "\n",
    "- Runtime Errors (Exceptions): These errors occur during the execution of a program, even if the code is syntactically correct. They represent unexpected situations or conditions that prevent the program from continuing its normal flow. Python provides a wide range of built-in exceptions to handle various runtime issues, such as:"
   ]
  },
  {
   "cell_type": "markdown",
   "id": "0f354a03",
   "metadata": {},
   "source": [
    "# Exception Handling"
   ]
  },
  {
   "cell_type": "code",
   "execution_count": null,
   "id": "56a145b0",
   "metadata": {},
   "outputs": [],
   "source": [
    "def divide(a ,b):\n",
    "    try:\n",
    "        c = a / b\n",
    "        return c\n",
    "    except:\n",
    "        print('You can not divide any number by zero')"
   ]
  },
  {
   "cell_type": "code",
   "execution_count": null,
   "id": "a5768ab8",
   "metadata": {},
   "outputs": [],
   "source": [
    "divide(10,'a')"
   ]
  },
  {
   "cell_type": "code",
   "execution_count": null,
   "id": "7d611303",
   "metadata": {},
   "outputs": [],
   "source": [
    "10/'a'"
   ]
  },
  {
   "cell_type": "code",
   "execution_count": null,
   "id": "a0902444",
   "metadata": {},
   "outputs": [],
   "source": [
    "def divide(a ,b):\n",
    "    try:\n",
    "        c = a / b\n",
    "        return c\n",
    "    except ZeroDivisionError:\n",
    "        print('You can not divide any number by zero')\n",
    "    except TypeError:\n",
    "        print('There is a mismatch between types')"
   ]
  },
  {
   "cell_type": "code",
   "execution_count": null,
   "id": "926eddc3",
   "metadata": {},
   "outputs": [],
   "source": [
    "divide(10,1)"
   ]
  },
  {
   "cell_type": "code",
   "execution_count": null,
   "id": "6f0491d5",
   "metadata": {},
   "outputs": [],
   "source": [
    "def divide(a ,b):\n",
    "    try:\n",
    "        c = a / b\n",
    "        return c\n",
    "    except Exception as e:\n",
    "        print(e)\n"
   ]
  },
  {
   "cell_type": "code",
   "execution_count": null,
   "id": "4765140f",
   "metadata": {},
   "outputs": [],
   "source": [
    "divide(10,'a')"
   ]
  },
  {
   "cell_type": "code",
   "execution_count": null,
   "id": "fbe43fcb",
   "metadata": {},
   "outputs": [],
   "source": [
    "def calculator(operator, a, b):\n",
    "    if operator == '+':\n",
    "        return a+b\n",
    "    elif operator == '-':\n",
    "        return a-b\n",
    "    elif operator == '/':\n",
    "        return a/b\n",
    "    elif operator == '*':\n",
    "        return a*b\n",
    "    elif operator == '**':\n",
    "        return a**b\n",
    "    elif operator == '%':\n",
    "        return a%b\n",
    "\n",
    "calculator('+', 2, 3)"
   ]
  },
  {
   "cell_type": "code",
   "execution_count": null,
   "id": "10a434e4",
   "metadata": {},
   "outputs": [],
   "source": [
    "calculator('-', 3,2)"
   ]
  },
  {
   "cell_type": "code",
   "execution_count": null,
   "id": "353020dc",
   "metadata": {},
   "outputs": [],
   "source": [
    "10 + 3"
   ]
  },
  {
   "cell_type": "code",
   "execution_count": null,
   "id": "ce1c3f98",
   "metadata": {},
   "outputs": [],
   "source": [
    "eval('10 + 3')"
   ]
  },
  {
   "cell_type": "code",
   "execution_count": 1,
   "id": "cd3b6a14",
   "metadata": {},
   "outputs": [],
   "source": [
    "def calculator(op, a, b):\n",
    "    # print(op, a?, b)\n",
    "    result = eval(f\"{str(a)} {op} {str(b)}\")\n",
    "    return result\n",
    "\n",
    "        "
   ]
  },
  {
   "cell_type": "code",
   "execution_count": 2,
   "id": "872ad150",
   "metadata": {},
   "outputs": [
    {
     "data": {
      "text/plain": [
       "1.0"
      ]
     },
     "execution_count": 2,
     "metadata": {},
     "output_type": "execute_result"
    }
   ],
   "source": [
    "calculator('/', 4, 'a')"
   ]
  },
  {
   "cell_type": "code",
   "execution_count": 5,
   "id": "802fa7e4",
   "metadata": {},
   "outputs": [],
   "source": [
    "def calculator(op):\n",
    "    num1 = input('Enter first number: ')\n",
    "    num2 = input('Enter second number: ')\n",
    "    result = eval(f\"{num1} {op} {num2}\")\n",
    "    return result\n",
    "\n",
    "        "
   ]
  },
  {
   "cell_type": "code",
   "execution_count": 9,
   "id": "f0400a32",
   "metadata": {},
   "outputs": [
    {
     "data": {
      "text/plain": [
       "24"
      ]
     },
     "execution_count": 9,
     "metadata": {},
     "output_type": "execute_result"
    }
   ],
   "source": [
    "calculator('+')"
   ]
  },
  {
   "cell_type": "code",
   "execution_count": 7,
   "id": "ac6b7621",
   "metadata": {},
   "outputs": [
    {
     "data": {
      "text/plain": [
       "24"
      ]
     },
     "execution_count": 7,
     "metadata": {},
     "output_type": "execute_result"
    }
   ],
   "source": [
    "opr = '+'\n",
    "num1 = 12\n",
    "num2 = 'num1'\n",
    "eval(f\"{num1} {opr} {num2}\")"
   ]
  }
 ],
 "metadata": {
  "kernelspec": {
   "display_name": "base",
   "language": "python",
   "name": "python3"
  },
  "language_info": {
   "codemirror_mode": {
    "name": "ipython",
    "version": 3
   },
   "file_extension": ".py",
   "mimetype": "text/x-python",
   "name": "python",
   "nbconvert_exporter": "python",
   "pygments_lexer": "ipython3",
   "version": "3.9.13"
  }
 },
 "nbformat": 4,
 "nbformat_minor": 5
}
